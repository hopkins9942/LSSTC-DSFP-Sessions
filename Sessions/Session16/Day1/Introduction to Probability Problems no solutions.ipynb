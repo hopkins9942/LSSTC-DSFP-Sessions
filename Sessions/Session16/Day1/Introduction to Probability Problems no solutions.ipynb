{
 "cells": [
  {
   "cell_type": "markdown",
   "id": "76cddb45",
   "metadata": {},
   "source": [
    "# Introduction to Probability - Problems\n",
    "\n",
    "### In this notebook, we'll work through some classic probability problems. Some will be \"easiest\" to implement in python, while others are best done with pen & paper."
   ]
  },
  {
   "cell_type": "markdown",
   "id": "978d7eb3",
   "metadata": {},
   "source": [
    "### Problem 1: The Birthday Problem\n",
    "\n",
    "A classic calculation is to calculate the probability that two people in today's DSFP session share the same birthday. You can approximate the number of people in the room as n=40 (~35 students, ~3 guest instructions, 1 slightly overwhelmed postdoc, and 1 Northwestern faculty member)."
   ]
  },
  {
   "cell_type": "markdown",
   "id": "bc425741",
   "metadata": {},
   "source": [
    "### Problem 1a: Is it easier to calculate this probabiltiy directly or by some other method? Discuss with those around you. "
   ]
  },
  {
   "cell_type": "markdown",
   "id": "3e68c3fb",
   "metadata": {},
   "source": [
    "Could do 1 - probability everyone has different birthday"
   ]
  },
  {
   "cell_type": "markdown",
   "id": "b07f2047",
   "metadata": {},
   "source": [
    "### Problem 1b: What is the probability that no two people in the room share the same birthday? \n",
    "\n",
    "### Problem 1c: Using your answer to 1b, plot the probability of two people sharing the same birthday as a function of the number of people in the room. At what value of n does the probability exceed 50%? Is this result surprising to you?\n",
    "\n",
    "Hint: you may need the approximation that $(1 + x) \\approx e^x$ for |x|<<1.\n",
    "\n",
    "### Bonus Problem (to be completed in the lunch break): Find at least two DSFP attendees who share the same birthday. "
   ]
  },
  {
   "cell_type": "markdown",
   "id": "e780d199",
   "metadata": {},
   "source": [
    "1b: 1 - 1 times 364/365 times 363/365 times ... times (365-n+1)/365 (note for n>=365 p = 1)\n",
    "\n",
    "= 1 - (365!/(365-n)!)/(365^n)"
   ]
  },
  {
   "cell_type": "code",
   "execution_count": 26,
   "id": "150ff3b3",
   "metadata": {},
   "outputs": [
    {
     "name": "stdout",
     "output_type": "stream",
     "text": [
      "0.0\n",
      "0.891231809817949\n",
      "0.4756953076625501\n",
      "0.5072972343239854\n"
     ]
    },
    {
     "data": {
      "image/png": "[encoded data removed]",
      "text/plain": [
       "<Figure size 432x288 with 1 Axes>"
      ]
     },
     "metadata": {
      "needs_background": "light"
     },
     "output_type": "display_data"
    }
   ],
   "source": [
    "import math\n",
    "import matplotlib.pyplot as plt\n",
    "import numpy as np\n",
    "\n",
    "f = lambda n: 1 - (math.factorial(365)/math.factorial(365-n))/(365.**n)\n",
    "\n",
    "#def p(n):\n",
    "#    subtractor = 1\n",
    "#    for k in range(n):\n",
    "#        subtractor*=(365-k)\n",
    "#    subtractor /= 365**n\n",
    "\n",
    "print(f(2)-(1-364/365))\n",
    "print(f(40))\n",
    "\n",
    "n_array = np.arange(40)\n",
    "p_array = np.zeros_like(n_array).astype(float)\n",
    "\n",
    "for i,n in enumerate(n_array):\n",
    "    p_array[i] = f(n)\n",
    "\n",
    "plt.plot(n_array, p_array)\n",
    "\n",
    "print(f(22))\n",
    "print(f(23))"
   ]
  },
  {
   "cell_type": "markdown",
   "id": "ce9ffe15",
   "metadata": {},
   "source": [
    "### [Pen & Paper] Problem 2: The Monty Hall Problem\n",
    "\n",
    "Another classic problem comes from the Monty Hall gameshow. On this game show, contestants are first asked to pick between several doors. Behind one of the doors is a large prize (a car, dream vacation, etc.) while the contestant goes home empty handed if they pick either of the other doors. The gameshow host then opens one of the doors that does not contain the prize. \n",
    "\n",
    "Now the clever bit. The contestant is then asked if they want to change their original choice of door for the other closed door. Your task is to make this choice for them. Assume for this problem that the context picks a door labelled n=1 and that the prize is contained behind door n=k. \n",
    "\n",
    "### Problem 2a) Getting started: applying the Principle of Indifference\n",
    "\n",
    "Before any doors are open, what is the conditional probability that the nth door contains a prize? \n",
    "\n",
    "\n",
    "\n",
    "### Problem 2b) Conditioning on data\n",
    "\n",
    "Use the Bayes rule to write down the probability that the prize is behind the first door given observed doors $\\{d_k\\}$, k < n do not contain the prize. \n",
    "\n",
    "\n",
    "Then write down the probability that the kth door remains unopened given that $H_1$ is true.\n",
    "\n",
    "\n",
    "\n",
    "### Problem 2c) Law of total probability \n",
    "\n",
    "Use the law of total probability to write down an expression for the probability of observing $\\{d_k\\}$ open doors (w/o) prizes.\n",
    "\n",
    "\n",
    "### Problem 2d) The key idea\n",
    "\n",
    "Write down the probability that the kth door stays unopened given that H_i = the hypothesis that the ith door contains the prize remains unopened. \n",
    "\n",
    "\n",
    "\n",
    "### Problem 2e) Should the contestant switch doors?\n",
    "\n",
    "Combine your answer to 2b) and 2d) to give the probability that the prize is behind the first door. Then use the axioms of probability theory to compute the probability that the prize is behind the final (kth) door. Should the person switch?"
   ]
  },
  {
   "cell_type": "markdown",
   "id": "8d30df45",
   "metadata": {},
   "source": [
    "2a: P(Hj) = 1/n\n",
    "\n",
    "Hj is event prize is behind door j\n",
    "\n",
    "2b: P(Hj|doors setdk open) = P(doors setdk open|Hj)P(Hj)/P(doors setdk open)\n",
    "\n",
    "2c: P(doors setdk open) = Sum over i (P(doors setdk open | Hi))\n",
    "\n",
    "2d: P(door dk open | Hi) = 1/(n-2) if i,k,1 all different; 1/(n-1) if i=1; 0 if k=1 or i  "
   ]
  },
  {
   "cell_type": "markdown",
   "id": "8a5c6c3c",
   "metadata": {},
   "source": [
    "### Problem 3: Boolean Logic\n",
    "\n",
    "An alternative interpretation of probability theory is that it represents an extension of classical logic to possibilities or plausibilities. In this sense, probability theory is a new kind of logic, and not statements about long run frequencies of events. In this problem, you'll explore the boolean logic that forms the basis for this perspective. While interesting for the development of probability theory, these are also useful skills for general programming tasks. \n",
    "\n",
    "We define the logical product and denote it by the symbol AB, which means that both propositions A and B are true. \n",
    "\n",
    "We define the logical sum and denote it by the symbol A + B, which means that at least one of the proopsitions A, or B is true. A + B = B + A. \n",
    "\n",
    "### Problem 3a) Generate two arrays, A and B, with randomly distributed numbers.\n",
    "\n",
    "### Problem 3b) Create two arrays, one consisting of booleans when the value of the A array and B array are > 0.5 \n",
    "\n",
    "### Problem 3c) Use the arrays from 3b) to create an array consisting only of the values in A where both A and B are greater than 0.5\n",
    "\n",
    "### Problem 3d) Do the same, except for where either A or B are greater than 0.5. "
   ]
  },
  {
   "cell_type": "markdown",
   "id": "743b4a42",
   "metadata": {},
   "source": [
    "## Problem 4: Probability Transformations in Astronomy\n",
    "\n",
    "This example comes from the AstroML book, and is a famous example of where a common transformation in astronomy does not preserve all of the properties of the underlying distribution. \n",
    "\n",
    "### Problem 4a) Generate some underlying normally distributed flux data\n",
    "\n",
    "Hint: you can do this most easily with scipy.stats.norm(), norm.rvs. Your life in 4d) will be slightly easier if you generate an odd number of samples.\n",
    "\n",
    "### Problem 4b) Transform fluxes to magnitudes\n",
    "\n",
    "The magnitude of a source is defined as mag $= -2.5 \\log_{10}(F)$. transform your normally distributed flux data to magnitudes. \n",
    "\n",
    "### Problem 4c) Plot your results\n",
    "\n",
    "Plot the flux and magnitude distribution. How has the transformation changed the shape of the distribution?\n",
    "\n",
    "### Problem 4d) Cumulative Distribution Function\n",
    "\n",
    "Plot the CDF of each distribution and discuss the properties of the CDF. Then compute the 25th, 50th, and 75th percentiles of both distributions and determine what data point each maps to. The CDF, median, and percentiles form the basis for many statistical tests of distribution similarity."
   ]
  },
  {
   "cell_type": "markdown",
   "id": "e5fe09e1",
   "metadata": {},
   "source": [
    "### Challenge Problem: From where does randomness come from?"
   ]
  },
  {
   "cell_type": "markdown",
   "id": "349416df",
   "metadata": {},
   "source": [
    "As astronomers, we know that there are two exclusively correct theories of nature. Classical mechanics and general relativity and no others. Given that both of these theories are deterministic, from where does randomnness come from? \n",
    "\n",
    "One way that people have approached this question is by positing that randomness (or probability) are empirical facts - something we see in the behaivor of a rolled die or a flipped coin. In fact, if we flip a coin a large number of times, it does approach a 1/2 H 1/2 T distribution. \n",
    "\n",
    "This has never quite made sense to me. We assume that both outcomes are equally likely based on the principle of indifference. But a coin is not in an indifferent starting state - one side is typically face up before you flip it. How can we explain the equally likely outcomes?\n",
    "\n",
    "Start by writing down the equations of motion for the coin as it moves through the air (and rotates). Once you have done that, plot the 'pre-image' (space of initial conditions) that lead to H and T outcomes. Explain why coins have a 1/2 H and 1/2 T long-run distribution and speculate on the origin of randomness. "
   ]
  }
 ],
 "metadata": {
  "kernelspec": {
   "display_name": "Python 3 (ipykernel)",
   "language": "python",
   "name": "python3"
  },
  "language_info": {
   "codemirror_mode": {
    "name": "ipython",
    "version": 3
   },
   "file_extension": ".py",
   "mimetype": "text/x-python",
   "name": "python",
   "nbconvert_exporter": "python",
   "pygments_lexer": "ipython3",
   "version": "3.8.12"
  }
 },
 "nbformat": 4,
 "nbformat_minor": 5
}
