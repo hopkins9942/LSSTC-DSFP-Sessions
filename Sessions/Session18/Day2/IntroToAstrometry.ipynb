{
 "cells": [
  {
   "cell_type": "markdown",
   "id": "8ae22b21-c7d7-42cf-a4bd-47784a71b729",
   "metadata": {},
   "source": [
    "# Introduction to Astrometry Notebook"
   ]
  },
  {
   "cell_type": "markdown",
   "id": "4f295204-9595-450a-ae4d-47c863ec7855",
   "metadata": {},
   "source": [
    "We're going to take sources from an HSC observation and match them to Gaia, look at the separations, then fit the wcs and look at  focal plane distortions, finally we'll look at the effect of proper motions, then apply proper motions and parallax and redo the fit. \n",
    "\n",
    "If that is too fast, also fit the source positions.\n",
    "Potential extras: do a better fit using error of measurements, try to find bug in astropy proper motion."
   ]
  },
  {
   "cell_type": "markdown",
   "id": "1aec4e9f-b975-4179-8bd8-104541582b01",
   "metadata": {},
   "source": [
    "#### First, load some helpful packages:"
   ]
  },
  {
   "cell_type": "code",
   "execution_count": 1,
   "id": "f555d57d-46f2-4aec-a0e8-cea2f152fc82",
   "metadata": {
    "execution": {
     "iopub.execute_input": "2023-06-08T18:48:35.224999Z",
     "iopub.status.busy": "2023-06-08T18:48:35.224767Z",
     "iopub.status.idle": "2023-06-08T18:48:35.227935Z",
     "shell.execute_reply": "2023-06-08T18:48:35.227505Z",
     "shell.execute_reply.started": "2023-06-08T18:48:35.224984Z"
    },
    "tags": []
   },
   "outputs": [],
   "source": [
    "# Start by loading some helpful packages:\n",
    "import numpy as np\n",
    "import matplotlib.pyplot as plt\n",
    "from astropy.coordinates import SkyCoord\n",
    "import astropy.wcs\n",
    "import astropy.units as u\n",
    "from astropy.io import fits\n",
    "from astropy import wcs\n",
    "import pandas as pd\n",
    "from glob import glob\n",
    "import re"
   ]
  },
  {
   "cell_type": "markdown",
   "id": "92cd083e",
   "metadata": {},
   "source": [
    "Normally, I wouldn't recommend suppressing warning messages, but in this case astropy will complain a lot about the input files, so it's helpful here:"
   ]
  },
  {
   "cell_type": "code",
   "execution_count": 2,
   "id": "586563ee",
   "metadata": {},
   "outputs": [],
   "source": [
    "import warnings\n",
    "from astropy.utils.exceptions import AstropyWarning\n",
    "warnings.simplefilter('ignore', category=AstropyWarning)"
   ]
  },
  {
   "cell_type": "markdown",
   "id": "6824607d",
   "metadata": {},
   "source": [
    "## Part 1: Fitting a WCS"
   ]
  },
  {
   "cell_type": "markdown",
   "id": "61ab13f3-8d94-4828-ac9e-8f1373347d0c",
   "metadata": {},
   "source": [
    "#### 1. Matching sources to a reference catalog\n",
    "\n",
    "We start by loading the sample data sets. In the \"astrometry_data\" subdirectory, there are files containing the sources measured in one HSC exposure. There is one file for each detector. These source catalogs only contain isolated stars that are appropriate for fitting the astrometric solution (i.e., there are no galaxies or stars that are close to galaxies). There is also one file with a subset of the Gaia catalog overlapping the footprint of the HSC exposure."
   ]
  },
  {
   "cell_type": "markdown",
   "id": "314bf585-934f-4b47-b2c5-a113f7f58c5c",
   "metadata": {},
   "source": [
    "First, load the Gaia catalog:\n",
    "(In this Gaia catalog, missing entries are denoted by NaNs, so you probably want to filter these out.)"
   ]
  },
  {
   "cell_type": "code",
   "execution_count": 46,
   "id": "1939cd8b",
   "metadata": {},
   "outputs": [
    {
     "name": "stdout",
     "output_type": "stream",
     "text": [
      "<SkyCoord (ICRS): (ra, dec) in deg\n",
      "    [(151.08625144, 2.26910322), (151.1138923 , 2.2753019 ),\n",
      "     (151.07714322, 2.27941641), ..., (149.60790663, 2.25564513),\n",
      "     (149.58325668, 2.26242986), (149.60453964, 2.26563869)]>\n"
     ]
    }
   ],
   "source": [
    "gaia_cat = pd.read_parquet('astrometry_data/gaia_refCat.parquet')\n",
    "good_ids = np.isfinite(gaia_cat['coord_ra'])\n",
    "gaia_skyCoord = SkyCoord(ra=gaia_cat['coord_ra'][good_ids]*u.radian,\n",
    "                         dec=gaia_cat['coord_dec'][good_ids]*u.radian, frame='icrs')\n",
    "print(gaia_skyCoord)"
   ]
  },
  {
   "cell_type": "markdown",
   "id": "54f5ece8",
   "metadata": {},
   "source": [
    "The files \"astrometry_data/1180_\\<detector\\>.fits\" contain the sources from each detector for visit 1180. The fits files have a best guess for the WCS in the primary HDU and the table of sources in the second HDU.\n",
    "\n",
    "Let's start by just looking at one source catalog:"
   ]
  },
  {
   "cell_type": "code",
   "execution_count": 47,
   "id": "ae2bd621",
   "metadata": {},
   "outputs": [
    {
     "name": "stdout",
     "output_type": "stream",
     "text": [
      "[  86.92947   830.3061   1273.882     991.7234   1603.6173    669.77405\n",
      " 1222.3792   1617.7659   1915.1594   1689.6992    988.5114    405.82425\n",
      " 1993.8823   1853.9066   1543.8564   1767.1976   1361.6143    741.3336\n",
      " 1576.8868   1589.507     740.0085   1995.4805   1348.4656   1347.6151\n",
      " 1513.6931   1079.8676    423.1765   1953.6847    987.58795   632.06964\n",
      "  399.5057    194.66345  1360.759    1928.748     708.2506    600.3489\n",
      " 1245.5801   1958.7861   1343.57     1375.4844   1112.0184    317.6648\n",
      " 1146.6028    216.21608  1759.0045   1979.2542    286.83063  1025.7056\n",
      "  325.2598    958.09875  1727.1836   1132.749    1903.9978    670.6934\n",
      " 1051.7379   1189.1149   1506.7557    193.13037    43.88585   146.65303\n",
      " 1991.1487    938.66943  1970.9211   1833.6049   1753.1633   1170.0454\n",
      "  610.2953   1310.683    1733.8594    487.3185    780.8097    923.81604\n",
      " 1992.095     462.21704  1188.9022    583.31793  1154.5541    623.78625\n",
      " 2025.1869   1849.7136   1778.734    1313.3827   1235.4691   1823.338\n",
      " 1065.873      87.76028   786.3503   1380.529     165.55795  1027.041\n",
      " 1771.6328   1922.2888    196.23265   925.4425   1117.9191    952.20795\n",
      " 1459.3103   1370.0728    393.21158  1021.437    1245.5886    374.59583\n",
      "  418.82355  1190.4049   1112.6818   1685.633     114.418724 2022.9144\n",
      "   46.340744  525.76984   819.2642    474.55856  1259.4672     59.41083\n",
      " 1343.3225    264.4824    657.2291   1215.1462    178.57494   596.10504\n",
      " 1688.5277    181.64862  1682.101     220.71887  1635.8009    587.4887\n",
      " 1409.9083   1670.6943    966.91364  1072.5284    981.4662    453.45804\n",
      "  904.0402    183.333     528.50354   553.93097   353.75778  1697.6846\n",
      "  191.79237   895.8904   1911.2754   2025.1582    506.71414  1407.0677\n",
      "  488.19684   686.2573   1170.6959   1482.3639   1997.366     809.9802\n",
      "  883.4988    649.2238   1271.5258   1039.462    1877.9198   1304.1226\n",
      "  490.32507   848.8967     47.312607 1523.3143   1814.8695    673.3149\n",
      "  383.81793  2025.2859    671.2603   1227.3574    398.92194   799.02454\n",
      " 1493.4038    360.22437  1676.7661   1119.4747    921.396    1281.246\n",
      " 1953.4012   1864.4985    713.6802    973.1638   1786.1416   1110.4089\n",
      " 1234.1178   1911.681     266.26114  1518.1384   1350.4032    586.0122\n",
      "  253.81757    60.1206   1893.0371   1932.5083   1164.4104   1676.1042\n",
      " 1245.4457   1405.9022    516.48914   853.5117   1546.8435    305.32947\n",
      " 1490.7178    842.1786     99.64212   346.23682   248.05902   490.15616\n",
      " 1347.2052   1819.8662   1875.263     138.17218  1137.4163    283.36804\n",
      "  406.4386   1589.8959    600.2761   1308.6533    456.709    1510.9105  ]\n"
     ]
    }
   ],
   "source": [
    "sources = fits.open('astrometry_data/1180_42.fits')\n",
    "source_cat = sources[1].data\n",
    "# You can check the column names of the data:\n",
    "print(source_cat.x)"
   ]
  },
  {
   "cell_type": "markdown",
   "id": "d64e45fc-67f9-4cf6-91e6-dd4038c384f1",
   "metadata": {
    "execution": {
     "iopub.execute_input": "2023-06-08T19:56:18.683475Z",
     "iopub.status.busy": "2023-06-08T19:56:18.683252Z",
     "iopub.status.idle": "2023-06-08T19:56:18.693101Z",
     "shell.execute_reply": "2023-06-08T19:56:18.692671Z",
     "shell.execute_reply.started": "2023-06-08T19:56:18.683460Z"
    },
    "tags": []
   },
   "source": [
    "Now convert the source catalog pixel values to RA and Dec using the WCS in the header"
   ]
  },
  {
   "cell_type": "code",
   "execution_count": 52,
   "id": "ae924009-50e5-49c9-9f08-4f0a6e727953",
   "metadata": {
    "tags": []
   },
   "outputs": [
    {
     "name": "stdout",
     "output_type": "stream",
     "text": [
      "<SkyCoord (ICRS): (ra, dec) in deg\n",
      "    [(150.00962882, 2.08628661), (150.01077289, 2.12105591),\n",
      "     (150.01187552, 2.14180264), (150.01244033, 2.12860488),\n",
      "     (150.01331644, 2.15722449), (150.01554761, 2.11354445),\n",
      "     (150.01549671, 2.13939151), (150.01556619, 2.1578849 ),\n",
      "     (150.01585936, 2.17179473), (150.01588108, 2.16124926),\n",
      "     (150.01632701, 2.1284523 ), (150.01765772, 2.10119743),\n",
      "     (150.01752958, 2.17547582), (150.01831346, 2.16892826),\n",
      "     (150.01967678, 2.15442545), (150.02119444, 2.16487087),\n",
      "     (150.02264069, 2.14589962), (150.02314703, 2.11688689),\n",
      "     (150.02304536, 2.15596833), (150.0243618 , 2.15655781),\n",
      "     (150.02441177, 2.11682414), (150.02518344, 2.17554592),\n",
      "     (150.02699378, 2.14528196), (150.03029715, 2.14524015),\n",
      "     (150.03172811, 2.15300725), (150.03225673, 2.13271557),\n",
      "     (150.03378377, 2.10199918), (150.03562075, 2.1735846 ),\n",
      "     (150.03592291, 2.12839711), (150.03671457, 2.11176794),\n",
      "     (150.03739596, 2.10088978), (150.03834579, 2.0913081 ),\n",
      "     (150.03921943, 2.14584943), (150.04012131, 2.17241546),\n",
      "     (150.0419075 , 2.11532793), (150.04443566, 2.11027946),\n",
      "     (150.04573311, 2.1404581 ), (150.04592645, 2.17381682),\n",
      "     (150.04853463, 2.14503964), (150.04958904, 2.14653171),\n",
      "     (150.05021004, 2.13420821), (150.05116598, 2.09705324),\n",
      "     (150.05135532, 2.13582511), (150.0535893 , 2.09230664),\n",
      "     (150.05541268, 2.16446647), (150.05749436, 2.17476691),\n",
      "     (150.05838736, 2.09560647), (150.05872476, 2.13016572),\n",
      "     (150.05889542, 2.0974036 ), (150.05919277, 2.12700325),\n",
      "     (150.05907402, 2.1629758 ), (150.05983977, 2.13517177),\n",
      "     (150.06060045, 2.17124498), (150.06211546, 2.11355855),\n",
      "     (150.06330281, 2.13138043), (150.06668845, 2.13780382),\n",
      "     (150.06691253, 2.15266073), (150.06679722, 2.09121847),\n",
      "     (150.06726339, 2.08423755), (150.06812302, 2.08904373),\n",
      "     (150.06904362, 2.17531592), (150.06919491, 2.12608811),\n",
      "     (150.07090095, 2.17436862), (150.07071288, 2.16794604),\n",
      "     (150.07115047, 2.16418326), (150.07520117, 2.13690643),\n",
      "     (150.07615749, 2.11072456), (150.07589339, 2.14348404),\n",
      "     (150.07575866, 2.1632774 ), (150.08049145, 2.10496975),\n",
      "     (150.08144087, 2.11869663), (150.08245242, 2.12538483),\n",
      "     (150.08304842, 2.17535116), (150.08269553, 2.10379425),\n",
      "     (150.08287904, 2.13778346), (150.08372429, 2.10945785),\n",
      "     (150.08424424, 2.136176  ), (150.08421155, 2.11135036),\n",
      "     (150.08455483, 2.176898  ), (150.08615628, 2.16868953),\n",
      "     (150.08623884, 2.16536954), (150.08673498, 2.14360329),\n",
      "     (150.08727548, 2.13995868), (150.08697193, 2.16745533),\n",
      "     (150.08777851, 2.13202581), (150.08790066, 2.08627636),\n",
      "     (150.08857257, 2.11895115), (150.08987749, 2.14674189),\n",
      "     (150.09025359, 2.08991366), (150.09125318, 2.13020725),\n",
      "     (150.09103584, 2.16503427), (150.09251453, 2.17207995),\n",
      "     (150.09318922, 2.09134649), (150.09520558, 2.12545258),\n",
      "     (150.09591235, 2.13445485), (150.09706886, 2.12670326),\n",
      "     (150.09769884, 2.1504216 ), (150.09869345, 2.14624703),\n",
      "     (150.09884443, 2.10055609), (150.10089004, 2.1299388 ),\n",
      "     (150.10261841, 2.14042193), (150.10309541, 2.09968256),\n",
      "     (150.10606218, 2.10174927), (150.10807518, 2.13783719),\n",
      "     (150.10873723, 2.1342014 ), (150.10947292, 2.16099963),\n",
      "     (150.10973944, 2.08750886), (150.10938752, 2.17677538),\n",
      "     (150.11083881, 2.08432391), (150.11153694, 2.10674783),\n",
      "     (150.11201569, 2.12047516), (150.11084069, 2.10435299),\n",
      "     (150.11209552, 2.14106477), (150.11289338, 2.08493387),\n",
      "     (150.11246408, 2.1449867 ), (150.11314873, 2.09452553),\n",
      "     (150.11307939, 2.11289556), (150.11337245, 2.13899089),\n",
      "     (150.11495617, 2.09050616), (150.11605425, 2.11003461),\n",
      "     (150.11613853, 2.16113056), (150.11719256, 2.09064843),\n",
      "     (150.11743698, 2.16082909), (150.11771674, 2.09247551),\n",
      "     (150.11741163, 2.15866351), (150.11931713, 2.10962941),\n",
      "     (150.12058251, 2.14809568), (150.12058297, 2.16029346),\n",
      "     (150.12163067, 2.12737474), (150.12154025, 2.13231473),\n",
      "     (150.12226825, 2.12805497), (150.12480548, 2.10335667),\n",
      "     (150.12474082, 2.12443185), (150.12551111, 2.09072161),\n",
      "     (150.12675242, 2.10686547), (150.12792464, 2.10805399),\n",
      "     (150.1284729 , 2.0986909 ), (150.13093824, 2.16154887),\n",
      "     (150.13129594, 2.09111336), (150.13231564, 2.12404552),\n",
      "     (150.13292366, 2.17153782), (150.13460869, 2.17686332),\n",
      "     (150.13505263, 2.10584067), (150.13566758, 2.14795259),\n",
      "     (150.13860054, 2.10497213), (150.14069745, 2.1142346 ),\n",
      "     (150.14180707, 2.13689254), (150.14276072, 2.15146956),\n",
      "     (150.14297863, 2.17555766), (150.14359516, 2.12001951),\n",
      "     (150.14438646, 2.12345766), (150.14473844, 2.11249965),\n",
      "     (150.14536218, 2.14160622), (150.1458329 , 2.13075155),\n",
      "     (150.14734172, 2.16996778), (150.14942656, 2.14312807),\n",
      "     (150.14993157, 2.10506388), (150.15078528, 2.1218348 ),\n",
      "     (150.15207826, 2.08434133), (150.15256233, 2.15337817),\n",
      "     (150.15312882, 2.16701472), (150.15340879, 2.11362047),\n",
      "     (150.15395872, 2.10007942), (150.15523323, 2.17685507),\n",
      "     (150.15642954, 2.11352227), (150.1583675 , 2.13953131),\n",
      "     (150.158512  , 2.10078271), (150.16027787, 2.11949552),\n",
      "     (150.16025421, 2.1519738 ), (150.1604126 , 2.09897138),\n",
      "     (150.16053376, 2.16055003), (150.16160333, 2.13448304),\n",
      "     (150.16286432, 2.1252174 ), (150.1645159 , 2.14204754),\n",
      "     (150.16423623, 2.17348651), (150.16504138, 2.1693277 ),\n",
      "     (150.16548057, 2.11550005), (150.16793417, 2.12763518),\n",
      "     (150.16797511, 2.16566064), (150.16890425, 2.13405388),\n",
      "     (150.16885226, 2.13984016), (150.16894383, 2.17153182),\n",
      "     (150.16908801, 2.09457034), (150.17009955, 2.1531238 ),\n",
      "     (150.17052619, 2.14527801), (150.1706847 , 2.10952496),\n",
      "     (150.17189188, 2.09398634), (150.17369273, 2.08492527),\n",
      "     (150.17374988, 2.17065639), (150.17501925, 2.17250168),\n",
      "     (150.1777186 , 2.13657346), (150.17811424, 2.16050667),\n",
      "     (150.17842243, 2.14036323), (150.17956133, 2.14786746),\n",
      "     (150.17981179, 2.10626669), (150.17994226, 2.12203018),\n",
      "     (150.1841508 , 2.15445645), (150.18479724, 2.09638655),\n",
      "     (150.18550954, 2.1518303 ), (150.1861278 , 2.12149569),\n",
      "     (150.18761754, 2.08676391), (150.1875068 , 2.09829798),\n",
      "     (150.1882837 , 2.09370534), (150.18992081, 2.1050278 ),\n",
      "     (150.18960008, 2.14511485), (150.18979465, 2.16722251),\n",
      "     (150.19074047, 2.16981291), (150.19406575, 2.08856145),\n",
      "     (150.19593839, 2.13529781), (150.19646177, 2.09535098),\n",
      "     (150.19720312, 2.10110683), (150.19757071, 2.15646049),\n",
      "     (150.19783199, 2.11017275), (150.19986703, 2.14330425),\n",
      "     (150.19986909, 2.1034562 ), (150.20192373, 2.15276294)]>\n"
     ]
    }
   ],
   "source": [
    "detector_wcs = wcs.WCS(sources[0].header)\n",
    "\n",
    "# Hint: wcs has a pixel_to_world method that is helpful here\n",
    "source_ra, source_dec = detector_wcs.pixel_to_world_values(source_cat.x, source_cat.y)\n",
    "source_skyCoords = SkyCoord(ra=source_ra*u.degree, dec=source_dec*u.degree)\n",
    "print(source_skyCoords)"
   ]
  },
  {
   "cell_type": "markdown",
   "id": "d0ed50e7-342a-4082-9ee9-0b9676ffb1ee",
   "metadata": {},
   "source": [
    "Make a plot showing the RA and Dec positions of the two catalogs to make sure we are starting with something sensible. For example, first make sure that the RA and Dec values of the two catalogs overlap, which they should. (Mixing up degrees and radians happens all the time!) Does it look like there are any likely matches between the catalogs? I recommend using different markers for each catalog in your scatter plot."
   ]
  },
  {
   "cell_type": "code",
   "execution_count": 61,
   "id": "4a3c32e7-f4df-4573-8546-e3c51384ea9a",
   "metadata": {},
   "outputs": [
    {
     "data": {
      "text/plain": [
       "<matplotlib.collections.PathCollection at 0x7fe2f97e5eb0>"
      ]
     },
     "execution_count": 61,
     "metadata": {},
     "output_type": "execute_result"
    },
    {
     "data": {
      "image/png": "[encoded data removed]",
      "text/plain": [
       "<Figure size 640x480 with 1 Axes>"
      ]
     },
     "metadata": {},
     "output_type": "display_data"
    }
   ],
   "source": [
    "fig, ax = plt.subplots()\n",
    "ax.scatter(source_skyCoords.ra, source_skyCoords.dec, s=1)\n",
    "ax.set_xlim(auto=False)\n",
    "ax.set_ylim(auto=False)\n",
    "ax.scatter(gaia_skyCoord.ra, gaia_skyCoord.dec, s=1)"
   ]
  },
  {
   "cell_type": "markdown",
   "id": "327b2fa3-96f2-4223-9a17-aa1e495433cc",
   "metadata": {},
   "source": [
    "Given the initial estimate of RA and Dec, match the Gaia catalog sources to the new source catalog:"
   ]
  },
  {
   "cell_type": "code",
   "execution_count": 93,
   "id": "983cd419",
   "metadata": {},
   "outputs": [
    {
     "name": "stdout",
     "output_type": "stream",
     "text": [
      "[ 8588  8603  8604  8604  8608  8603  8605  8608 10169  8608  8604  8589\n",
      " 10169  8631  8608  8608  8605  8603  8608  8608  8600  8631  8605  8605\n",
      "  8607  8605  8596  8630  8598  8598  8596  8579  8606  8630  8597  8597\n",
      "  8606  8632  8623  8623  8601  8599  8601  8580  8624  8633  8583  8601\n",
      "  8583  8601  8620  8614  8633  8582  8614  8614  8621  8583  8574  8583\n",
      "  8626  8614  8626  8625  8621  8615  8584  8619  8621  8584  8584  8615\n",
      "  8625  8578  8616  8584  8616  8584  8625  8622  8622  8617  8616  8622\n",
      "  8615  8578  8584  8617  8578  8616  8622  8622  8578  8616  8616  8616\n",
      "  8617  8617  8613  4893  4893  8613  8613  4893  4893  4895  8577  4907\n",
      "  8577  8612  8613  8612  4893  8577  4893  8611  8612  4893  8611  8612\n",
      "  4896  8611  4896  8611  4896  4888  4894  4894  4893  4893  4893  4888\n",
      "  4889  4685  4887  4887  4888  4894  4685  4889  4906  4906  4687  4892\n",
      "  4687  4889  4892  4892  4903  4890  4890  4889  4892  4891  4903  4898\n",
      "  4688  4891  4680  4898  4903  4688  4688  4903  4688  4898  4688  4688\n",
      "  4902  4684  4902  4897  4897  4898  4902  4902  4688  4698  4902  4899\n",
      "  4899  4902  4684  4902  4899  4684  4684  4682  4901  4901  4899  4901\n",
      "  4899  4901  4684  4696  4901  4684  4901  4696  4683  4690  4683  4692\n",
      "  4699  4901  4901  4683  4699  4690  4690  4701  4692  4699  4690  4701]\n",
      "216\n",
      "216\n",
      "10278\n"
     ]
    }
   ],
   "source": [
    "# Complete: \n",
    "# (Hint: astropy SkyCoord has a \"match_to_catalog_sky\" function that works well for this.)\n",
    "\n",
    "idx, d2d, d3d = source_skyCoords.match_to_catalog_sky(gaia_skyCoord)\n",
    "print(idx)\n",
    "d2d = np.array(d2d/u.degree)*60**2\n",
    "print(len(idx))\n",
    "print(len(d2d)) #idx are index in gaia_skyCoord\n",
    "print(len(gaia_skyCoord))"
   ]
  },
  {
   "cell_type": "markdown",
   "id": "646304cc-26a9-48df-95de-97d292b7a1e7",
   "metadata": {},
   "source": [
    "Not every source in the catalog will have a match in the Gaia catalog. Make a histogram of the match separations and choose a sensible limit for the distance between matches."
   ]
  },
  {
   "cell_type": "code",
   "execution_count": 84,
   "id": "e6cc71b8-0481-401e-a3ba-4cb39bf33d8e",
   "metadata": {
    "tags": []
   },
   "outputs": [
    {
     "data": {
      "text/plain": [
       "(array([21.,  0.,  0.,  0.,  0.,  0.,  0.,  0.,  0.,  0.,  1.,  1.,  2.,\n",
       "         1.,  2.,  0.,  0.,  3.,  0.,  1.,  3.,  3.,  3.,  3.,  2.,  2.,\n",
       "         1.,  1.,  3.,  4.,  1.,  3.,  5.,  5.,  8.,  1.,  2.,  0.,  5.,\n",
       "         3.,  1.,  5.,  6.,  3.,  2.,  4.,  3.,  6.,  6.]),\n",
       " array([ 0.        ,  0.6122449 ,  1.2244898 ,  1.83673469,  2.44897959,\n",
       "         3.06122449,  3.67346939,  4.28571429,  4.89795918,  5.51020408,\n",
       "         6.12244898,  6.73469388,  7.34693878,  7.95918367,  8.57142857,\n",
       "         9.18367347,  9.79591837, 10.40816327, 11.02040816, 11.63265306,\n",
       "        12.24489796, 12.85714286, 13.46938776, 14.08163265, 14.69387755,\n",
       "        15.30612245, 15.91836735, 16.53061224, 17.14285714, 17.75510204,\n",
       "        18.36734694, 18.97959184, 19.59183673, 20.20408163, 20.81632653,\n",
       "        21.42857143, 22.04081633, 22.65306122, 23.26530612, 23.87755102,\n",
       "        24.48979592, 25.10204082, 25.71428571, 26.32653061, 26.93877551,\n",
       "        27.55102041, 28.16326531, 28.7755102 , 29.3877551 , 30.        ]),\n",
       " <BarContainer object of 49 artists>)"
      ]
     },
     "execution_count": 84,
     "metadata": {},
     "output_type": "execute_result"
    },
    {
     "data": {
      "image/png": "[encoded data removed]",
      "text/plain": [
       "<Figure size 640x480 with 1 Axes>"
      ]
     },
     "metadata": {},
     "output_type": "display_data"
    }
   ],
   "source": [
    "fig,ax = plt.subplots()\n",
    "ax.hist(d2d, bins=np.linspace(0,30)) # shows distinct populations, which looks like true and false matches"
   ]
  },
  {
   "cell_type": "markdown",
   "id": "480d0d16",
   "metadata": {},
   "source": [
    "Make a histogram of just the good matches to see what the separations look like."
   ]
  },
  {
   "cell_type": "code",
   "execution_count": 97,
   "id": "ceb41737",
   "metadata": {},
   "outputs": [
    {
     "data": {
      "text/plain": [
       "(array([6., 4., 2., 1., 2., 1., 2., 1., 0., 2.]),\n",
       " array([0.01583281, 0.04951345, 0.08319408, 0.11687472, 0.15055536,\n",
       "        0.184236  , 0.21791663, 0.25159727, 0.28527791, 0.31895855,\n",
       "        0.35263918]),\n",
       " <BarContainer object of 10 artists>)"
      ]
     },
     "execution_count": 97,
     "metadata": {},
     "output_type": "execute_result"
    },
    {
     "data": {
      "image/png": "[encoded data removed]",
      "text/plain": [
       "<Figure size 640x480 with 1 Axes>"
      ]
     },
     "metadata": {},
     "output_type": "display_data"
    }
   ],
   "source": [
    "good_idx = idx[d2d<1]\n",
    "\n",
    "fig,ax = plt.subplots()\n",
    "ax.hist(d2d[d2d<0.5])"
   ]
  },
  {
   "cell_type": "markdown",
   "id": "327a666e-942a-4e22-8ed9-2993428c19bf",
   "metadata": {},
   "source": [
    "You may also want to remove any sources that have ambiguous pairings (within the limit you selected above) -- i.e. one gaia star matches multiple science sources or vice-versa"
   ]
  },
  {
   "cell_type": "markdown",
   "id": "74ec02de-c7dc-41a6-8812-5a2ae53149d1",
   "metadata": {},
   "source": [
    "#### 2. Fitting a WCS\n",
    "\n",
    "Now that we have found the stars that are in both our science image and our reference catalog, let's try to fit an improved WCS.\n",
    "\n",
    "To do a simple version of this, use `astropy.wcs.utils.fit_wcs_from_points` to fit a WCS function. Use the optional argument `sip_degree` to choose what order of polynomial to use for the function. (Choosing zero should give something pretty close to the WCS we got from the fits file header.) The pixel values should come from our source catalog, and the sky coordinates should come from the Gaia catalog."
   ]
  },
  {
   "cell_type": "code",
   "execution_count": 100,
   "id": "1cddcde4-de00-405e-9946-656858432234",
   "metadata": {},
   "outputs": [
    {
     "name": "stdout",
     "output_type": "stream",
     "text": [
      "[0 0 0 0 0 0 0 0 0 0 0 0 0 0 0 0 0 0 0 0 0]\n"
     ]
    }
   ],
   "source": [
    "idx_source, idx_gaia, d2d, d3d = gaia_skyCoord.search_around_sky(source_skyCoords, 1*u.deg/(3600))\n",
    "\n",
    "print(idx_gaia-good_idx)# check they're same\n",
    "\n",
    "new_wcs = wcs.utils.fit_wcs_from_points((source_cat.x[idx_source], source_cat.y[idx_source]),\n",
    "                                        gaia_skyCoord[idx_gaia], sip_degree=3)"
   ]
  },
  {
   "cell_type": "markdown",
   "id": "14f8e01d",
   "metadata": {},
   "source": [
    "Now calculate the RA and Dec for the pixel coordinages in the input image and see if the separations between the science image and Gaia have improved."
   ]
  },
  {
   "cell_type": "code",
   "execution_count": null,
   "id": "d8cb0f67",
   "metadata": {},
   "outputs": [],
   "source": [
    "new_radec = # complete"
   ]
  },
  {
   "cell_type": "markdown",
   "id": "fd4fe4ee-5beb-4e17-a6f7-c5a5ea2c6806",
   "metadata": {},
   "source": [
    "#### 3. Fit the WCS over the whole focal plane and look for camera-level effects"
   ]
  },
  {
   "cell_type": "markdown",
   "id": "d4efceea-6236-4143-bcef-cf3860e4e087",
   "metadata": {},
   "source": [
    "We are going to put the above steps together in a loop over all the detectors to get an improved WCS for each detector. "
   ]
  },
  {
   "cell_type": "code",
   "execution_count": null,
   "id": "ce80ba6a-d2be-46b3-8d01-ab6b6cd38859",
   "metadata": {},
   "outputs": [],
   "source": [
    "source_files = glob('astrometry_data/1180_*.fits')\n",
    "get_detector = re.compile(r'astrometry_data/1180_(\\d+?).fits')\n",
    "orig_wcs_dict = {}\n",
    "new_wcs_dict = {}\n",
    "for source_file in source_files:\n",
    "    sources = # complete\n",
    "    \n",
    "    s = get_detector.search(source_file)\n",
    "    detector = int(s.group(1))\n",
    "\n",
    "    orig_wcs_dict[detector] = # complete\n",
    "\n",
    "    source_cat = # complete\n",
    "\n",
    "    source_coords = # complete\n",
    "\n",
    "    # Choose good matches as above...\n",
    "\n",
    "    new_wcs = # complete\n",
    "    new_wcs_dict[detector] = new_wcs\n"
   ]
  },
  {
   "cell_type": "markdown",
   "id": "b8f65252",
   "metadata": {},
   "source": [
    "Plot the difference in RA and Dec vs the simple wcs position, then look at this difference over the focal plane. Are there coherent distortions between detectors?\n",
    "\n",
    "To do this, I recommend making a grid in x and y pixel values and calculating what RA and Dec those map to using the original and new WCSs for each detector. "
   ]
  },
  {
   "cell_type": "code",
   "execution_count": null,
   "id": "c7492c54",
   "metadata": {},
   "outputs": [],
   "source": [
    "x_range = np.arange(0, 2048, 100)\n",
    "y_range = np.arange(0, 4096, 100)\n",
    "\n",
    "# complete"
   ]
  },
  {
   "cell_type": "markdown",
   "id": "4959cf05-e15e-4cab-b653-3f7e5570f09a",
   "metadata": {},
   "source": [
    "#### 4. How good is the model?\n",
    "\n",
    "Use the pixel scale matrix (the CD matrix) to approximate the WCS Jacobian and propagate the x and y errors to RA and Dec. You can use this equation for the error propagation:\n",
    "\n",
    "$$ \\mathbf{C}_{RA, Dec} = \\mathbf{J} \\mathbf{C}_{x, y} \\mathbf{J}^T\n",
    "$$\n",
    "\n",
    "where $\\mathbf{C}_{x, y}$ is the x,y covariance matrix, \\mathbf{C}_{RA, Dec} is the covariance in RA and Dec, and \\mathbf{J} is the Jacobian of the WCS transformation.\n"
   ]
  },
  {
   "cell_type": "code",
   "execution_count": null,
   "id": "3b84cea5-ccb3-43dc-96b3-fbbb2f0a764a",
   "metadata": {},
   "outputs": [],
   "source": [
    "print(new_wcs.pixel_scale_matrix)"
   ]
  },
  {
   "cell_type": "markdown",
   "id": "b441ceea",
   "metadata": {},
   "source": [
    "Using this covariance, calculated the chi-squared of the model for the WCS that we have calculated."
   ]
  },
  {
   "cell_type": "code",
   "execution_count": null,
   "id": "8d78fcfd",
   "metadata": {},
   "outputs": [],
   "source": []
  }
 ],
 "metadata": {
  "kernelspec": {
   "display_name": "Python 3 (ipykernel)",
   "language": "python",
   "name": "python3"
  },
  "language_info": {
   "codemirror_mode": {
    "name": "ipython",
    "version": 3
   },
   "file_extension": ".py",
   "mimetype": "text/x-python",
   "name": "python",
   "nbconvert_exporter": "python",
   "pygments_lexer": "ipython3",
   "version": "3.8.12"
  }
 },
 "nbformat": 4,
 "nbformat_minor": 5
}
