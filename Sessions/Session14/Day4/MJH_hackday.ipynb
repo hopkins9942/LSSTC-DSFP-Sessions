{
 "cells": [
  {
   "cell_type": "code",
   "execution_count": 3,
   "metadata": {
    "id": "UXmSia8MxQgL"
   },
   "outputs": [],
   "source": [
    "import os\n",
    "import numpy as np\n",
    "import pandas as pd\n",
    "import seaborn as sns\n",
    "import matplotlib.pyplot as plt\n",
    "%matplotlib inline\n",
    "import torch\n",
    "from sklearn.model_selection import train_test_split\n",
    "from sklearn.ensemble import IsolationForest\n"
   ]
  },
  {
   "cell_type": "code",
   "execution_count": 8,
   "metadata": {
    "id": "3iaXHVwHEYQX"
   },
   "outputs": [
    {
     "name": "stdout",
     "output_type": "stream",
     "text": [
      "203\n",
      "36\n",
      "141\n",
      "pablo-picasso_las-meninas-velazquez-1957-1.jpg\n"
     ]
    }
   ],
   "source": [
    "cubism_path = \"/home/hopkinsl/Downloads/wikiart/wikiart/Cubism\"\n",
    "listdir = os.listdir(cubism_path)\n",
    "image_names = []\n",
    "labels = []\n",
    "for file in listdir:\n",
    "    if file.startswith('pablo-picasso'):\n",
    "        image_names.append(file)\n",
    "        labels.append(0)\n",
    "    elif file.startswith('marevna'):\n",
    "        image_names.append(file)\n",
    "        labels.append(1)\n",
    "    elif file.startswith('fernand-leger'):\n",
    "        image_names.append(file)\n",
    "        labels.append(2)\n",
    "print(labels.count(0))\n",
    "print(labels.count(1))\n",
    "print(labels.count(2))\n",
    "print(listdir[0])"
   ]
  },
  {
   "cell_type": "code",
   "execution_count": 9,
   "metadata": {
    "colab": {
     "base_uri": "https://localhost:8080/"
    },
    "id": "45QnrjLb0XJk",
    "outputId": "a5f5be61-54a6-41f4-adcc-3a5de2869c85"
   },
   "outputs": [
    {
     "name": "stdout",
     "output_type": "stream",
     "text": [
      "1\n"
     ]
    }
   ],
   "source": [
    "#Reading, reshaping, and normalizing images\n",
    "#images = plt.imread(data)\n",
    "#labels = pandas.read_csv()\n",
    "\n",
    "images = torch.zeros\n",
    "for file in image_names:\n",
    "    \n",
    "\n",
    "images = images.reshape(len(images),-1)\n",
    "images = (images - images.mean()) / images.std())\n",
    "images_train, images_test, labels_train, labels_test = train_test_split(images, labels, test_size=0.33, random_state=42)"
   ]
  },
  {
   "cell_type": "code",
   "execution_count": 15,
   "metadata": {
    "id": "dSVCtupwxc6Q"
   },
   "outputs": [],
   "source": [
    "\n",
    "\n",
    "class MLP(torch.nn.Module):\n",
    "      # this defines the model\n",
    "        def __init__(self, sizes):\n",
    "            super(MLP, self).__init__()\n",
    "            print(sizes)\n",
    "            self.sizes = sizes\n",
    "            self.layers = [torch.nn.Linear(sizes[i], sizes[i+1]) for i in range(len(sizes)-1)]\n",
    "            self.sigmoid = torch.nn.Sigmoid()\n",
    "            self.relu = torch.nn.ReLU()\n",
    "            self.softmax = torch.nn.Softmax()\n",
    "        def forward(self, x):\n",
    "            temp_activation = x\n",
    "            temp_layer = self.layers[0](temp_activation)\n",
    "            for i in range(1, len(layers)):\n",
    "              temp_activation = self.sigmoid(temp_layer)\n",
    "              temp_layer = self.layers[i](temp_activation)\n",
    "            return self.softmax(temp_layer)\n",
    "\n"
   ]
  },
  {
   "cell_type": "code",
   "execution_count": 18,
   "metadata": {
    "colab": {
     "base_uri": "https://localhost:8080/",
     "height": 219
    },
    "id": "ffVUx__u5K-V",
    "outputId": "d6604060-f6f5-4ca7-b2eb-8edc2dc76b37"
   },
   "outputs": [
    {
     "ename": "NameError",
     "evalue": "ignored",
     "output_type": "error",
     "traceback": [
      "\u001b[0;31m---------------------------------------------------------------------------\u001b[0m",
      "\u001b[0;31mNameError\u001b[0m                                 Traceback (most recent call last)",
      "\u001b[0;32m<ipython-input-18-0c0211e30540>\u001b[0m in \u001b[0;36m<module>\u001b[0;34m()\u001b[0m\n\u001b[1;32m     23\u001b[0m   \u001b[0mplt\u001b[0m\u001b[0;34m.\u001b[0m\u001b[0mshow\u001b[0m\u001b[0;34m(\u001b[0m\u001b[0;34m)\u001b[0m\u001b[0;34m\u001b[0m\u001b[0;34m\u001b[0m\u001b[0m\n\u001b[1;32m     24\u001b[0m \u001b[0;34m\u001b[0m\u001b[0m\n\u001b[0;32m---> 25\u001b[0;31m \u001b[0msizes\u001b[0m \u001b[0;34m=\u001b[0m \u001b[0;34m[\u001b[0m\u001b[0mlen\u001b[0m\u001b[0;34m(\u001b[0m\u001b[0mimages\u001b[0m\u001b[0;34m[\u001b[0m\u001b[0;36m0\u001b[0m\u001b[0;34m,\u001b[0m\u001b[0;34m:\u001b[0m\u001b[0;34m]\u001b[0m\u001b[0;34m)\u001b[0m\u001b[0;34m,\u001b[0m \u001b[0;36m30\u001b[0m\u001b[0;34m,\u001b[0m\u001b[0;36m30\u001b[0m\u001b[0;34m,\u001b[0m\u001b[0;36m23\u001b[0m\u001b[0;34m]\u001b[0m\u001b[0;34m\u001b[0m\u001b[0;34m\u001b[0m\u001b[0m\n\u001b[0m\u001b[1;32m     26\u001b[0m \u001b[0mtrain_model\u001b[0m\u001b[0;34m(\u001b[0m\u001b[0mimages_train\u001b[0m\u001b[0;34m,\u001b[0m \u001b[0mimages_test\u001b[0m\u001b[0;34m,\u001b[0m \u001b[0mlabels_train\u001b[0m\u001b[0;34m,\u001b[0m \u001b[0mlabels_test\u001b[0m\u001b[0;34m,\u001b[0m \u001b[0mMLP\u001b[0m\u001b[0;34m(\u001b[0m\u001b[0;34m)\u001b[0m\u001b[0;34m)\u001b[0m\u001b[0;34m\u001b[0m\u001b[0;34m\u001b[0m\u001b[0m\n",
      "\u001b[0;31mNameError\u001b[0m: name 'images' is not defined"
     ]
    }
   ],
   "source": [
    "def train_model(training_data, test_data,training_labels,test_labels, model):\n",
    "  # define the optimization\n",
    "  criterion = torch.nn.BCELoss()\n",
    "  optimizer = torch.optim.SGD(model.parameters(), lr=0.007,momentum=0.9)\n",
    "  for epoch in range(10):\n",
    "    # clear the gradient\n",
    "    optimizer.zero_grad()\n",
    "    # compute the model output\n",
    "    myoutput = model(training_data)\n",
    "    # calculate loss\n",
    "    loss = criterion(myoutput, training_labels)\n",
    "    # credit assignment\n",
    "    loss.backward()\n",
    "    # update model weights\n",
    "    optimizer.step()\n",
    "\n",
    "    # STUDENTS ADD THIS PART\n",
    "    output_test = model(test_data)\n",
    "    loss_test = criterion(output_test, test_labels)\n",
    "    plt.plot(epoch,loss.detach().numpy(),'ko')\n",
    "    plt.plot(epoch,loss_test.detach().numpy(),'ro')\n",
    "    print(epoch,loss.detach().numpy())\n",
    "  plt.show()\n",
    "\n",
    "sizes = [len(images[0,:]), 30,30,23]\n",
    "train_model(images_train, images_test, labels_train, labels_test, MLP())"
   ]
  }
 ],
 "metadata": {
  "colab": {
   "name": "MJH_hackday.ipynb",
   "provenance": []
  },
  "kernelspec": {
   "display_name": "Python 3 (ipykernel)",
   "language": "python",
   "name": "python3"
  },
  "language_info": {
   "codemirror_mode": {
    "name": "ipython",
    "version": 3
   },
   "file_extension": ".py",
   "mimetype": "text/x-python",
   "name": "python",
   "nbconvert_exporter": "python",
   "pygments_lexer": "ipython3",
   "version": "3.8.12"
  }
 },
 "nbformat": 4,
 "nbformat_minor": 1
}
