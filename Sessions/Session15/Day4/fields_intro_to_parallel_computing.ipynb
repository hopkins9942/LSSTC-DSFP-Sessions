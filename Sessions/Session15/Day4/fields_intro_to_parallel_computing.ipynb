{
 "cells": [
  {
   "cell_type": "code",
   "execution_count": 1,
   "metadata": {},
   "outputs": [],
   "source": [
    "from __future__ import print_function, division, absolute_import"
   ]
  },
  {
   "cell_type": "markdown",
   "metadata": {},
   "source": [
    "# Introduction to Parallel Computing - Targeting CPUs (in Python):\n",
    "\n",
    "By Carl Fields (Los Alamos National Lab)\n",
    "\n",
    "*This exercise was designed in part based on tutorials from the [Scipy 2017 workshop](https://github.com/gforsyth/numba_tutorial_scipy2017) and the Numba [Tutorials]((https://numba.readthedocs.io/en/stable/user/examples.html) Pages.* \n",
    "\n",
    "---"
   ]
  },
  {
   "cell_type": "markdown",
   "metadata": {},
   "source": [
    "## Learning Objectives\n",
    "\n",
    "- Using Numba decorators to speed up algorithms\n",
    "- Using `timeit` profiler for generic algorithm profiling\n",
    "- Creating complex alogrithms utilizing Numba decorators\n",
    "- Using `line_profiler` to expose parallelizable regions in complex algorithms\n",
    "- Creating Numpy Ufuncs\n",
    "- Exploring shared memory parallelism in Numba\n",
    "- Characterizing strong scaling \n",
    "---"
   ]
  },
  {
   "cell_type": "markdown",
   "metadata": {},
   "source": [
    "## Problem 0) Creating Our HPC Environment\n",
    "**Before** beginning, we want to prepare a new environment for the purpose of this exercise.\n",
    "\n",
    "Run the following on the command line:\n",
    "\n",
    "```linux\n",
    "$ conda create --name hpc\n",
    "$ conda activate hpc\n",
    "```\n",
    "\n",
    "After doing so, we want to install a few tools that will be needed for this notebook:\n",
    "\n",
    "```linux\n",
    "$ conda install -c conda-forge jupyter ipython numpy numba line_profiler matplotlib\n",
    "```\n",
    "\n",
    "---\n",
    "\n"
   ]
  },
  {
   "cell_type": "markdown",
   "metadata": {},
   "source": [
    "We can check that our installation worked by trying to import the required libraries:"
   ]
  },
  {
   "cell_type": "code",
   "execution_count": 2,
   "metadata": {},
   "outputs": [],
   "source": [
    "import numpy as np\n",
    "import math\n",
    "import matplotlib.pyplot as plt\n",
    "\n",
    "%matplotlib notebook"
   ]
  },
  {
   "cell_type": "markdown",
   "metadata": {},
   "source": [
    "## Problem 1) Exploring a basic algorithm"
   ]
  },
  {
   "cell_type": "markdown",
   "metadata": {},
   "source": [
    "We want to define a function first: we will use a function designed to compute the Hypotenuse of a right angle triangle.\n",
    "\n",
    "A common problem with the straightforward implementation is the potential for arithmetic overflow when computing the sqaures. `Hypot` is an equivalent algorithm that aims to avoid this problem (https://en.wikipedia.org/wiki/Pythagorean_addition):\n",
    "\n",
    "We want to solve $$c = x\\sqrt{1+(t^2)}$$ given that $$x=|x|$$ and $$y=|y|$$ We also define $$t=min(|x|,|y|)$$ and $$x=max(|x|,|y|)$$ And lastly, defining $$t=t/x$$, we can solve our original equation avoiding [underflow](https://en.wikipedia.org/wiki/Arithmetic_underflow) or [overflow](https://en.wikipedia.org/wiki/Integer_overflow). "
   ]
  },
  {
   "cell_type": "markdown",
   "metadata": {},
   "source": [
    "**Problem 1a** Write your `Hypot` routine here:"
   ]
  },
  {
   "cell_type": "code",
   "execution_count": 4,
   "metadata": {},
   "outputs": [],
   "source": [
    "# definition here https://en.wikipedia.org/wiki/Pythagorean_addition\n",
    "def hypot(x, y):\n",
    "    x = abs(x)\n",
    "    y = abs(y)\n",
    "    t = min(x,y)\n",
    "    x = max(x,y)\n",
    "    t = t/x\n",
    "    return  x*np.sqrt(1 + t**2)"
   ]
  },
  {
   "cell_type": "markdown",
   "metadata": {},
   "source": [
    "**Problem 1b** Run your `Hypot` routine for a triangle with side lengths of $$x=3$$ and $$y=5~.$$ \n",
    "\n",
    "Does the result make sense?"
   ]
  },
  {
   "cell_type": "code",
   "execution_count": 7,
   "metadata": {
    "scrolled": true
   },
   "outputs": [
    {
     "name": "stdout",
     "output_type": "stream",
     "text": [
      "5.8309518948453\n"
     ]
    }
   ],
   "source": [
    "print(hypot(3,5))"
   ]
  },
  {
   "cell_type": "markdown",
   "metadata": {},
   "source": [
    "Using `timeit` to measure performance\n",
    "\n",
    "\n",
    "We want to start by exploring some options available for profiling or timing a given piece or code or routine. This will allow us to assess any potential areas of a code that might be performing slowly and/or expose a potentially parallelizable region. \n",
    "\n",
    "Lets start by considering [timeit- *Measure execution time of small code snippets* ](https://docs.python.org/3/library/timeit.html)."
   ]
  },
  {
   "cell_type": "markdown",
   "metadata": {},
   "source": [
    "**Problem 1c** Run your `Hypot` routine here using the `timeit` preamble:"
   ]
  },
  {
   "cell_type": "code",
   "execution_count": 9,
   "metadata": {},
   "outputs": [
    {
     "name": "stdout",
     "output_type": "stream",
     "text": [
      "1.11 µs ± 12.6 ns per loop (mean ± std. dev. of 7 runs, 1,000,000 loops each)\n"
     ]
    }
   ],
   "source": [
    "%timeit hypot(3,5)"
   ]
  },
  {
   "cell_type": "markdown",
   "metadata": {},
   "source": [
    "Ok, what do the results mean? Is that fast? Is it efficient? We don't know yet. Let's try to start answering this question by leveraging the tools in `Numba`.\n",
    "\n",
    "`Numba` *translates Python functions to optimized machine code at runtime using the industry-standard LLVM compiler library. Numba-compiled numerical algorithms in Python can approach the speeds of C or FORTRAN.* Documentation can be found [here](https://numba.pydata.org/). \n",
    "\n",
    "One of the most straightforward ways to leverage `Numba` is to mark routines for optimization using the Just-In-Time compilation decorators. More details about this can be found [here](https://numba.readthedocs.io/en/stable/reference/jit-compilation.html#numba.jit).\n",
    "\n",
    "In general, the `@jit` decorators will be added before the defintion of an algorithm. "
   ]
  },
  {
   "cell_type": "markdown",
   "metadata": {},
   "source": [
    "**Problem 1d** Write `Hypot` routine this time using the `@jit` decorator from numba:"
   ]
  },
  {
   "cell_type": "code",
   "execution_count": 17,
   "metadata": {},
   "outputs": [],
   "source": [
    "import numba\n",
    "\n",
    "@numba.njit\n",
    "def hypot_numba(x, y):\n",
    "    x = abs(x)\n",
    "    y = abs(y)\n",
    "    t = min(x,y)\n",
    "    x = max(x,y)\n",
    "    t = t/x\n",
    "    return  x*np.sqrt(1 + t**2)"
   ]
  },
  {
   "cell_type": "markdown",
   "metadata": {},
   "source": [
    "**Problem 1e** Compare your original routine to your new routine using Numba:\n",
    "\n",
    "\n",
    "*Hint- Numba should be about 4 time faster!* You may have to run the Numba routine twice."
   ]
  },
  {
   "cell_type": "code",
   "execution_count": 18,
   "metadata": {},
   "outputs": [
    {
     "name": "stdout",
     "output_type": "stream",
     "text": [
      "161 ns ± 1.57 ns per loop (mean ± std. dev. of 7 runs, 10,000,000 loops each)\n"
     ]
    }
   ],
   "source": [
    "%timeit hypot_numba(3,5)"
   ]
  },
  {
   "cell_type": "code",
   "execution_count": null,
   "metadata": {},
   "outputs": [],
   "source": [
    " # complete"
   ]
  },
  {
   "cell_type": "markdown",
   "metadata": {},
   "source": [
    "## Problem 2) Exploring a complex algorithm\n",
    "\n",
    "While the speedup we observe here is great. We can do even better. When optimizing algorithms, `Numba` will first attempt to use no Python. But if this fails, it will try again using Python. The fastest performance increase will be when the optimization can be made without Python. More details can be found [here](https://numba.pydata.org/numba-doc/latest/user/performance-tips.html). Next, we will consider a more complex algorithm and ensure the optimization is made without python. \n",
    "\n",
    "We will explore an example that highlights Numba's loop parallelization strengths. \n"
   ]
  },
  {
   "cell_type": "markdown",
   "metadata": {},
   "source": [
    "**Problem 2a** Run the following algorithm to compute the Mandelbrot set. Background on the algorithm can be found [here](https://en.wikipedia.org/wiki/Plotting_algorithms_for_the_Mandelbrot_set):"
   ]
  },
  {
   "cell_type": "code",
   "execution_count": 13,
   "metadata": {},
   "outputs": [],
   "source": [
    "def mandel(x, y, max_iters):\n",
    "    \"\"\"\n",
    "    Given the real and imaginary parts of a complex number,\n",
    "    determine if it is a candidate for membership in the Mandelbrot\n",
    "    set given a fixed number of iterations.\n",
    "    \"\"\"\n",
    "    i = 0\n",
    "    c = complex(x, y)\n",
    "    z = 0.0j\n",
    "    for i in range(max_iters):\n",
    "        z = z * z + c\n",
    "        if (z.real * z.real + z.imag * z.imag) >= 4:\n",
    "            return i\n",
    "\n",
    "    return 255\n",
    "\n",
    "def create_fractal(min_x, max_x, min_y, max_y, image, iters):\n",
    "    height = image.shape[0]\n",
    "    width = image.shape[1]\n",
    "\n",
    "    pixel_size_x = (max_x - min_x) / width\n",
    "    pixel_size_y = (max_y - min_y) / height\n",
    "    for x in range(width):\n",
    "        real = min_x + x * pixel_size_x\n",
    "        for y in range(height):\n",
    "            imag = min_y + y * pixel_size_y\n",
    "            color = mandel(real, imag, iters)\n",
    "            image[y, x] = color\n",
    "\n",
    "    return image"
   ]
  },
  {
   "cell_type": "markdown",
   "metadata": {},
   "source": [
    "Run the acutal code here using the lines below. \n",
    "\n",
    "Note: changing the image dimension can significantly change the run time. The chosen values here can run in less than a minute for the unoptimized version. "
   ]
  },
  {
   "cell_type": "code",
   "execution_count": 14,
   "metadata": {},
   "outputs": [],
   "source": [
    "image = np.zeros((500 * 2, 750 * 2), dtype=np.uint8)\n",
    "image = create_fractal(-2.0, 1.0, -1.0, 1.0, image, 20)"
   ]
  },
  {
   "cell_type": "code",
   "execution_count": 15,
   "metadata": {
    "scrolled": false
   },
   "outputs": [
    {
     "data": {
      "application/javascript": [
       "/* Put everything inside the global mpl namespace */\n",
       "/* global mpl */\n",
       "window.mpl = {};\n",
       "\n",
       "mpl.get_websocket_type = function () {\n",
       "    if (typeof WebSocket !== 'undefined') {\n",
       "        return WebSocket;\n",
       "    } else if (typeof MozWebSocket !== 'undefined') {\n",
       "        return MozWebSocket;\n",
       "    } else {\n",
       "        alert(\n",
       "            'Your browser does not have WebSocket support. ' +\n",
       "                'Please try Chrome, Safari or Firefox ≥ 6. ' +\n",
       "                'Firefox 4 and 5 are also supported but you ' +\n",
       "                'have to enable WebSockets in about:config.'\n",
       "        );\n",
       "    }\n",
       "};\n",
       "\n",
       "mpl.figure = function (figure_id, websocket, ondownload, parent_element) {\n",
       "    this.id = figure_id;\n",
       "\n",
       "    this.ws = websocket;\n",
       "\n",
       "    this.supports_binary = this.ws.binaryType !== undefined;\n",
       "\n",
       "    if (!this.supports_binary) {\n",
       "        var warnings = document.getElementById('mpl-warnings');\n",
       "        if (warnings) {\n",
       "            warnings.style.display = 'block';\n",
       "            warnings.textContent =\n",
       "                'This browser does not support binary websocket messages. ' +\n",
       "                'Performance may be slow.';\n",
       "        }\n",
       "    }\n",
       "\n",
       "    this.imageObj = new Image();\n",
       "\n",
       "    this.context = undefined;\n",
       "    this.message = undefined;\n",
       "    this.canvas = undefined;\n",
       "    this.rubberband_canvas = undefined;\n",
       "    this.rubberband_context = undefined;\n",
       "    this.format_dropdown = undefined;\n",
       "\n",
       "    this.image_mode = 'full';\n",
       "\n",
       "    this.root = document.createElement('div');\n",
       "    this.root.setAttribute('style', 'display: inline-block');\n",
       "    this._root_extra_style(this.root);\n",
       "\n",
       "    parent_element.appendChild(this.root);\n",
       "\n",
       "    this._init_header(this);\n",
       "    this._init_canvas(this);\n",
       "    this._init_toolbar(this);\n",
       "\n",
       "    var fig = this;\n",
       "\n",
       "    this.waiting = false;\n",
       "\n",
       "    this.ws.onopen = function () {\n",
       "        fig.send_message('supports_binary', { value: fig.supports_binary });\n",
       "        fig.send_message('send_image_mode', {});\n",
       "        if (fig.ratio !== 1) {\n",
       "            fig.send_message('set_device_pixel_ratio', {\n",
       "                device_pixel_ratio: fig.ratio,\n",
       "            });\n",
       "        }\n",
       "        fig.send_message('refresh', {});\n",
       "    };\n",
       "\n",
       "    this.imageObj.onload = function () {\n",
       "        if (fig.image_mode === 'full') {\n",
       "            // Full images could contain transparency (where diff images\n",
       "            // almost always do), so we need to clear the canvas so that\n",
       "            // there is no ghosting.\n",
       "            fig.context.clearRect(0, 0, fig.canvas.width, fig.canvas.height);\n",
       "        }\n",
       "        fig.context.drawImage(fig.imageObj, 0, 0);\n",
       "    };\n",
       "\n",
       "    this.imageObj.onunload = function () {\n",
       "        fig.ws.close();\n",
       "    };\n",
       "\n",
       "    this.ws.onmessage = this._make_on_message_function(this);\n",
       "\n",
       "    this.ondownload = ondownload;\n",
       "};\n",
       "\n",
       "mpl.figure.prototype._init_header = function () {\n",
       "    var titlebar = document.createElement('div');\n",
       "    titlebar.classList =\n",
       "        'ui-dialog-titlebar ui-widget-header ui-corner-all ui-helper-clearfix';\n",
       "    var titletext = document.createElement('div');\n",
       "    titletext.classList = 'ui-dialog-title';\n",
       "    titletext.setAttribute(\n",
       "        'style',\n",
       "        'width: 100%; text-align: center; padding: 3px;'\n",
       "    );\n",
       "    titlebar.appendChild(titletext);\n",
       "    this.root.appendChild(titlebar);\n",
       "    this.header = titletext;\n",
       "};\n",
       "\n",
       "mpl.figure.prototype._canvas_extra_style = function (_canvas_div) {};\n",
       "\n",
       "mpl.figure.prototype._root_extra_style = function (_canvas_div) {};\n",
       "\n",
       "mpl.figure.prototype._init_canvas = function () {\n",
       "    var fig = this;\n",
       "\n",
       "    var canvas_div = (this.canvas_div = document.createElement('div'));\n",
       "    canvas_div.setAttribute(\n",
       "        'style',\n",
       "        'border: 1px solid #ddd;' +\n",
       "            'box-sizing: content-box;' +\n",
       "            'clear: both;' +\n",
       "            'min-height: 1px;' +\n",
       "            'min-width: 1px;' +\n",
       "            'outline: 0;' +\n",
       "            'overflow: hidden;' +\n",
       "            'position: relative;' +\n",
       "            'resize: both;'\n",
       "    );\n",
       "\n",
       "    function on_keyboard_event_closure(name) {\n",
       "        return function (event) {\n",
       "            return fig.key_event(event, name);\n",
       "        };\n",
       "    }\n",
       "\n",
       "    canvas_div.addEventListener(\n",
       "        'keydown',\n",
       "        on_keyboard_event_closure('key_press')\n",
       "    );\n",
       "    canvas_div.addEventListener(\n",
       "        'keyup',\n",
       "        on_keyboard_event_closure('key_release')\n",
       "    );\n",
       "\n",
       "    this._canvas_extra_style(canvas_div);\n",
       "    this.root.appendChild(canvas_div);\n",
       "\n",
       "    var canvas = (this.canvas = document.createElement('canvas'));\n",
       "    canvas.classList.add('mpl-canvas');\n",
       "    canvas.setAttribute('style', 'box-sizing: content-box;');\n",
       "\n",
       "    this.context = canvas.getContext('2d');\n",
       "\n",
       "    var backingStore =\n",
       "        this.context.backingStorePixelRatio ||\n",
       "        this.context.webkitBackingStorePixelRatio ||\n",
       "        this.context.mozBackingStorePixelRatio ||\n",
       "        this.context.msBackingStorePixelRatio ||\n",
       "        this.context.oBackingStorePixelRatio ||\n",
       "        this.context.backingStorePixelRatio ||\n",
       "        1;\n",
       "\n",
       "    this.ratio = (window.devicePixelRatio || 1) / backingStore;\n",
       "\n",
       "    var rubberband_canvas = (this.rubberband_canvas = document.createElement(\n",
       "        'canvas'\n",
       "    ));\n",
       "    rubberband_canvas.setAttribute(\n",
       "        'style',\n",
       "        'box-sizing: content-box; position: absolute; left: 0; top: 0; z-index: 1;'\n",
       "    );\n",
       "\n",
       "    // Apply a ponyfill if ResizeObserver is not implemented by browser.\n",
       "    if (this.ResizeObserver === undefined) {\n",
       "        if (window.ResizeObserver !== undefined) {\n",
       "            this.ResizeObserver = window.ResizeObserver;\n",
       "        } else {\n",
       "            var obs = _JSXTOOLS_RESIZE_OBSERVER({});\n",
       "            this.ResizeObserver = obs.ResizeObserver;\n",
       "        }\n",
       "    }\n",
       "\n",
       "    this.resizeObserverInstance = new this.ResizeObserver(function (entries) {\n",
       "        var nentries = entries.length;\n",
       "        for (var i = 0; i < nentries; i++) {\n",
       "            var entry = entries[i];\n",
       "            var width, height;\n",
       "            if (entry.contentBoxSize) {\n",
       "                if (entry.contentBoxSize instanceof Array) {\n",
       "                    // Chrome 84 implements new version of spec.\n",
       "                    width = entry.contentBoxSize[0].inlineSize;\n",
       "                    height = entry.contentBoxSize[0].blockSize;\n",
       "                } else {\n",
       "                    // Firefox implements old version of spec.\n",
       "                    width = entry.contentBoxSize.inlineSize;\n",
       "                    height = entry.contentBoxSize.blockSize;\n",
       "                }\n",
       "            } else {\n",
       "                // Chrome <84 implements even older version of spec.\n",
       "                width = entry.contentRect.width;\n",
       "                height = entry.contentRect.height;\n",
       "            }\n",
       "\n",
       "            // Keep the size of the canvas and rubber band canvas in sync with\n",
       "            // the canvas container.\n",
       "            if (entry.devicePixelContentBoxSize) {\n",
       "                // Chrome 84 implements new version of spec.\n",
       "                canvas.setAttribute(\n",
       "                    'width',\n",
       "                    entry.devicePixelContentBoxSize[0].inlineSize\n",
       "                );\n",
       "                canvas.setAttribute(\n",
       "                    'height',\n",
       "                    entry.devicePixelContentBoxSize[0].blockSize\n",
       "                );\n",
       "            } else {\n",
       "                canvas.setAttribute('width', width * fig.ratio);\n",
       "                canvas.setAttribute('height', height * fig.ratio);\n",
       "            }\n",
       "            canvas.setAttribute(\n",
       "                'style',\n",
       "                'width: ' + width + 'px; height: ' + height + 'px;'\n",
       "            );\n",
       "\n",
       "            rubberband_canvas.setAttribute('width', width);\n",
       "            rubberband_canvas.setAttribute('height', height);\n",
       "\n",
       "            // And update the size in Python. We ignore the initial 0/0 size\n",
       "            // that occurs as the element is placed into the DOM, which should\n",
       "            // otherwise not happen due to the minimum size styling.\n",
       "            if (fig.ws.readyState == 1 && width != 0 && height != 0) {\n",
       "                fig.request_resize(width, height);\n",
       "            }\n",
       "        }\n",
       "    });\n",
       "    this.resizeObserverInstance.observe(canvas_div);\n",
       "\n",
       "    function on_mouse_event_closure(name) {\n",
       "        return function (event) {\n",
       "            return fig.mouse_event(event, name);\n",
       "        };\n",
       "    }\n",
       "\n",
       "    rubberband_canvas.addEventListener(\n",
       "        'mousedown',\n",
       "        on_mouse_event_closure('button_press')\n",
       "    );\n",
       "    rubberband_canvas.addEventListener(\n",
       "        'mouseup',\n",
       "        on_mouse_event_closure('button_release')\n",
       "    );\n",
       "    rubberband_canvas.addEventListener(\n",
       "        'dblclick',\n",
       "        on_mouse_event_closure('dblclick')\n",
       "    );\n",
       "    // Throttle sequential mouse events to 1 every 20ms.\n",
       "    rubberband_canvas.addEventListener(\n",
       "        'mousemove',\n",
       "        on_mouse_event_closure('motion_notify')\n",
       "    );\n",
       "\n",
       "    rubberband_canvas.addEventListener(\n",
       "        'mouseenter',\n",
       "        on_mouse_event_closure('figure_enter')\n",
       "    );\n",
       "    rubberband_canvas.addEventListener(\n",
       "        'mouseleave',\n",
       "        on_mouse_event_closure('figure_leave')\n",
       "    );\n",
       "\n",
       "    canvas_div.addEventListener('wheel', function (event) {\n",
       "        if (event.deltaY < 0) {\n",
       "            event.step = 1;\n",
       "        } else {\n",
       "            event.step = -1;\n",
       "        }\n",
       "        on_mouse_event_closure('scroll')(event);\n",
       "    });\n",
       "\n",
       "    canvas_div.appendChild(canvas);\n",
       "    canvas_div.appendChild(rubberband_canvas);\n",
       "\n",
       "    this.rubberband_context = rubberband_canvas.getContext('2d');\n",
       "    this.rubberband_context.strokeStyle = '#000000';\n",
       "\n",
       "    this._resize_canvas = function (width, height, forward) {\n",
       "        if (forward) {\n",
       "            canvas_div.style.width = width + 'px';\n",
       "            canvas_div.style.height = height + 'px';\n",
       "        }\n",
       "    };\n",
       "\n",
       "    // Disable right mouse context menu.\n",
       "    this.rubberband_canvas.addEventListener('contextmenu', function (_e) {\n",
       "        event.preventDefault();\n",
       "        return false;\n",
       "    });\n",
       "\n",
       "    function set_focus() {\n",
       "        canvas.focus();\n",
       "        canvas_div.focus();\n",
       "    }\n",
       "\n",
       "    window.setTimeout(set_focus, 100);\n",
       "};\n",
       "\n",
       "mpl.figure.prototype._init_toolbar = function () {\n",
       "    var fig = this;\n",
       "\n",
       "    var toolbar = document.createElement('div');\n",
       "    toolbar.classList = 'mpl-toolbar';\n",
       "    this.root.appendChild(toolbar);\n",
       "\n",
       "    function on_click_closure(name) {\n",
       "        return function (_event) {\n",
       "            return fig.toolbar_button_onclick(name);\n",
       "        };\n",
       "    }\n",
       "\n",
       "    function on_mouseover_closure(tooltip) {\n",
       "        return function (event) {\n",
       "            if (!event.currentTarget.disabled) {\n",
       "                return fig.toolbar_button_onmouseover(tooltip);\n",
       "            }\n",
       "        };\n",
       "    }\n",
       "\n",
       "    fig.buttons = {};\n",
       "    var buttonGroup = document.createElement('div');\n",
       "    buttonGroup.classList = 'mpl-button-group';\n",
       "    for (var toolbar_ind in mpl.toolbar_items) {\n",
       "        var name = mpl.toolbar_items[toolbar_ind][0];\n",
       "        var tooltip = mpl.toolbar_items[toolbar_ind][1];\n",
       "        var image = mpl.toolbar_items[toolbar_ind][2];\n",
       "        var method_name = mpl.toolbar_items[toolbar_ind][3];\n",
       "\n",
       "        if (!name) {\n",
       "            /* Instead of a spacer, we start a new button group. */\n",
       "            if (buttonGroup.hasChildNodes()) {\n",
       "                toolbar.appendChild(buttonGroup);\n",
       "            }\n",
       "            buttonGroup = document.createElement('div');\n",
       "            buttonGroup.classList = 'mpl-button-group';\n",
       "            continue;\n",
       "        }\n",
       "\n",
       "        var button = (fig.buttons[name] = document.createElement('button'));\n",
       "        button.classList = 'mpl-widget';\n",
       "        button.setAttribute('role', 'button');\n",
       "        button.setAttribute('aria-disabled', 'false');\n",
       "        button.addEventListener('click', on_click_closure(method_name));\n",
       "        button.addEventListener('mouseover', on_mouseover_closure(tooltip));\n",
       "\n",
       "        var icon_img = document.createElement('img');\n",
       "        icon_img.src = '_images/' + image + '.png';\n",
       "        icon_img.srcset = '_images/' + image + '_large.png 2x';\n",
       "        icon_img.alt = tooltip;\n",
       "        button.appendChild(icon_img);\n",
       "\n",
       "        buttonGroup.appendChild(button);\n",
       "    }\n",
       "\n",
       "    if (buttonGroup.hasChildNodes()) {\n",
       "        toolbar.appendChild(buttonGroup);\n",
       "    }\n",
       "\n",
       "    var fmt_picker = document.createElement('select');\n",
       "    fmt_picker.classList = 'mpl-widget';\n",
       "    toolbar.appendChild(fmt_picker);\n",
       "    this.format_dropdown = fmt_picker;\n",
       "\n",
       "    for (var ind in mpl.extensions) {\n",
       "        var fmt = mpl.extensions[ind];\n",
       "        var option = document.createElement('option');\n",
       "        option.selected = fmt === mpl.default_extension;\n",
       "        option.innerHTML = fmt;\n",
       "        fmt_picker.appendChild(option);\n",
       "    }\n",
       "\n",
       "    var status_bar = document.createElement('span');\n",
       "    status_bar.classList = 'mpl-message';\n",
       "    toolbar.appendChild(status_bar);\n",
       "    this.message = status_bar;\n",
       "};\n",
       "\n",
       "mpl.figure.prototype.request_resize = function (x_pixels, y_pixels) {\n",
       "    // Request matplotlib to resize the figure. Matplotlib will then trigger a resize in the client,\n",
       "    // which will in turn request a refresh of the image.\n",
       "    this.send_message('resize', { width: x_pixels, height: y_pixels });\n",
       "};\n",
       "\n",
       "mpl.figure.prototype.send_message = function (type, properties) {\n",
       "    properties['type'] = type;\n",
       "    properties['figure_id'] = this.id;\n",
       "    this.ws.send(JSON.stringify(properties));\n",
       "};\n",
       "\n",
       "mpl.figure.prototype.send_draw_message = function () {\n",
       "    if (!this.waiting) {\n",
       "        this.waiting = true;\n",
       "        this.ws.send(JSON.stringify({ type: 'draw', figure_id: this.id }));\n",
       "    }\n",
       "};\n",
       "\n",
       "mpl.figure.prototype.handle_save = function (fig, _msg) {\n",
       "    var format_dropdown = fig.format_dropdown;\n",
       "    var format = format_dropdown.options[format_dropdown.selectedIndex].value;\n",
       "    fig.ondownload(fig, format);\n",
       "};\n",
       "\n",
       "mpl.figure.prototype.handle_resize = function (fig, msg) {\n",
       "    var size = msg['size'];\n",
       "    if (size[0] !== fig.canvas.width || size[1] !== fig.canvas.height) {\n",
       "        fig._resize_canvas(size[0], size[1], msg['forward']);\n",
       "        fig.send_message('refresh', {});\n",
       "    }\n",
       "};\n",
       "\n",
       "mpl.figure.prototype.handle_rubberband = function (fig, msg) {\n",
       "    var x0 = msg['x0'] / fig.ratio;\n",
       "    var y0 = (fig.canvas.height - msg['y0']) / fig.ratio;\n",
       "    var x1 = msg['x1'] / fig.ratio;\n",
       "    var y1 = (fig.canvas.height - msg['y1']) / fig.ratio;\n",
       "    x0 = Math.floor(x0) + 0.5;\n",
       "    y0 = Math.floor(y0) + 0.5;\n",
       "    x1 = Math.floor(x1) + 0.5;\n",
       "    y1 = Math.floor(y1) + 0.5;\n",
       "    var min_x = Math.min(x0, x1);\n",
       "    var min_y = Math.min(y0, y1);\n",
       "    var width = Math.abs(x1 - x0);\n",
       "    var height = Math.abs(y1 - y0);\n",
       "\n",
       "    fig.rubberband_context.clearRect(\n",
       "        0,\n",
       "        0,\n",
       "        fig.canvas.width / fig.ratio,\n",
       "        fig.canvas.height / fig.ratio\n",
       "    );\n",
       "\n",
       "    fig.rubberband_context.strokeRect(min_x, min_y, width, height);\n",
       "};\n",
       "\n",
       "mpl.figure.prototype.handle_figure_label = function (fig, msg) {\n",
       "    // Updates the figure title.\n",
       "    fig.header.textContent = msg['label'];\n",
       "};\n",
       "\n",
       "mpl.figure.prototype.handle_cursor = function (fig, msg) {\n",
       "    fig.rubberband_canvas.style.cursor = msg['cursor'];\n",
       "};\n",
       "\n",
       "mpl.figure.prototype.handle_message = function (fig, msg) {\n",
       "    fig.message.textContent = msg['message'];\n",
       "};\n",
       "\n",
       "mpl.figure.prototype.handle_draw = function (fig, _msg) {\n",
       "    // Request the server to send over a new figure.\n",
       "    fig.send_draw_message();\n",
       "};\n",
       "\n",
       "mpl.figure.prototype.handle_image_mode = function (fig, msg) {\n",
       "    fig.image_mode = msg['mode'];\n",
       "};\n",
       "\n",
       "mpl.figure.prototype.handle_history_buttons = function (fig, msg) {\n",
       "    for (var key in msg) {\n",
       "        if (!(key in fig.buttons)) {\n",
       "            continue;\n",
       "        }\n",
       "        fig.buttons[key].disabled = !msg[key];\n",
       "        fig.buttons[key].setAttribute('aria-disabled', !msg[key]);\n",
       "    }\n",
       "};\n",
       "\n",
       "mpl.figure.prototype.handle_navigate_mode = function (fig, msg) {\n",
       "    if (msg['mode'] === 'PAN') {\n",
       "        fig.buttons['Pan'].classList.add('active');\n",
       "        fig.buttons['Zoom'].classList.remove('active');\n",
       "    } else if (msg['mode'] === 'ZOOM') {\n",
       "        fig.buttons['Pan'].classList.remove('active');\n",
       "        fig.buttons['Zoom'].classList.add('active');\n",
       "    } else {\n",
       "        fig.buttons['Pan'].classList.remove('active');\n",
       "        fig.buttons['Zoom'].classList.remove('active');\n",
       "    }\n",
       "};\n",
       "\n",
       "mpl.figure.prototype.updated_canvas_event = function () {\n",
       "    // Called whenever the canvas gets updated.\n",
       "    this.send_message('ack', {});\n",
       "};\n",
       "\n",
       "// A function to construct a web socket function for onmessage handling.\n",
       "// Called in the figure constructor.\n",
       "mpl.figure.prototype._make_on_message_function = function (fig) {\n",
       "    return function socket_on_message(evt) {\n",
       "        if (evt.data instanceof Blob) {\n",
       "            var img = evt.data;\n",
       "            if (img.type !== 'image/png') {\n",
       "                /* FIXME: We get \"Resource interpreted as Image but\n",
       "                 * transferred with MIME type text/plain:\" errors on\n",
       "                 * Chrome.  But how to set the MIME type?  It doesn't seem\n",
       "                 * to be part of the websocket stream */\n",
       "                img.type = 'image/png';\n",
       "            }\n",
       "\n",
       "            /* Free the memory for the previous frames */\n",
       "            if (fig.imageObj.src) {\n",
       "                (window.URL || window.webkitURL).revokeObjectURL(\n",
       "                    fig.imageObj.src\n",
       "                );\n",
       "            }\n",
       "\n",
       "            fig.imageObj.src = (window.URL || window.webkitURL).createObjectURL(\n",
       "                img\n",
       "            );\n",
       "            fig.updated_canvas_event();\n",
       "            fig.waiting = false;\n",
       "            return;\n",
       "        } else if (\n",
       "            typeof evt.data === 'string' &&\n",
       "            evt.data.slice(0, 21) === 'data:image/png;base64'\n",
       "        ) {\n",
       "            fig.imageObj.src = evt.data;\n",
       "            fig.updated_canvas_event();\n",
       "            fig.waiting = false;\n",
       "            return;\n",
       "        }\n",
       "\n",
       "        var msg = JSON.parse(evt.data);\n",
       "        var msg_type = msg['type'];\n",
       "\n",
       "        // Call the  \"handle_{type}\" callback, which takes\n",
       "        // the figure and JSON message as its only arguments.\n",
       "        try {\n",
       "            var callback = fig['handle_' + msg_type];\n",
       "        } catch (e) {\n",
       "            console.log(\n",
       "                \"No handler for the '\" + msg_type + \"' message type: \",\n",
       "                msg\n",
       "            );\n",
       "            return;\n",
       "        }\n",
       "\n",
       "        if (callback) {\n",
       "            try {\n",
       "                // console.log(\"Handling '\" + msg_type + \"' message: \", msg);\n",
       "                callback(fig, msg);\n",
       "            } catch (e) {\n",
       "                console.log(\n",
       "                    \"Exception inside the 'handler_\" + msg_type + \"' callback:\",\n",
       "                    e,\n",
       "                    e.stack,\n",
       "                    msg\n",
       "                );\n",
       "            }\n",
       "        }\n",
       "    };\n",
       "};\n",
       "\n",
       "// from https://stackoverflow.com/questions/1114465/getting-mouse-location-in-canvas\n",
       "mpl.findpos = function (e) {\n",
       "    //this section is from http://www.quirksmode.org/js/events_properties.html\n",
       "    var targ;\n",
       "    if (!e) {\n",
       "        e = window.event;\n",
       "    }\n",
       "    if (e.target) {\n",
       "        targ = e.target;\n",
       "    } else if (e.srcElement) {\n",
       "        targ = e.srcElement;\n",
       "    }\n",
       "    if (targ.nodeType === 3) {\n",
       "        // defeat Safari bug\n",
       "        targ = targ.parentNode;\n",
       "    }\n",
       "\n",
       "    // pageX,Y are the mouse positions relative to the document\n",
       "    var boundingRect = targ.getBoundingClientRect();\n",
       "    var x = e.pageX - (boundingRect.left + document.body.scrollLeft);\n",
       "    var y = e.pageY - (boundingRect.top + document.body.scrollTop);\n",
       "\n",
       "    return { x: x, y: y };\n",
       "};\n",
       "\n",
       "/*\n",
       " * return a copy of an object with only non-object keys\n",
       " * we need this to avoid circular references\n",
       " * https://stackoverflow.com/a/24161582/3208463\n",
       " */\n",
       "function simpleKeys(original) {\n",
       "    return Object.keys(original).reduce(function (obj, key) {\n",
       "        if (typeof original[key] !== 'object') {\n",
       "            obj[key] = original[key];\n",
       "        }\n",
       "        return obj;\n",
       "    }, {});\n",
       "}\n",
       "\n",
       "mpl.figure.prototype.mouse_event = function (event, name) {\n",
       "    var canvas_pos = mpl.findpos(event);\n",
       "\n",
       "    if (name === 'button_press') {\n",
       "        this.canvas.focus();\n",
       "        this.canvas_div.focus();\n",
       "    }\n",
       "\n",
       "    var x = canvas_pos.x * this.ratio;\n",
       "    var y = canvas_pos.y * this.ratio;\n",
       "\n",
       "    this.send_message(name, {\n",
       "        x: x,\n",
       "        y: y,\n",
       "        button: event.button,\n",
       "        step: event.step,\n",
       "        guiEvent: simpleKeys(event),\n",
       "    });\n",
       "\n",
       "    /* This prevents the web browser from automatically changing to\n",
       "     * the text insertion cursor when the button is pressed.  We want\n",
       "     * to control all of the cursor setting manually through the\n",
       "     * 'cursor' event from matplotlib */\n",
       "    event.preventDefault();\n",
       "    return false;\n",
       "};\n",
       "\n",
       "mpl.figure.prototype._key_event_extra = function (_event, _name) {\n",
       "    // Handle any extra behaviour associated with a key event\n",
       "};\n",
       "\n",
       "mpl.figure.prototype.key_event = function (event, name) {\n",
       "    // Prevent repeat events\n",
       "    if (name === 'key_press') {\n",
       "        if (event.key === this._key) {\n",
       "            return;\n",
       "        } else {\n",
       "            this._key = event.key;\n",
       "        }\n",
       "    }\n",
       "    if (name === 'key_release') {\n",
       "        this._key = null;\n",
       "    }\n",
       "\n",
       "    var value = '';\n",
       "    if (event.ctrlKey && event.key !== 'Control') {\n",
       "        value += 'ctrl+';\n",
       "    }\n",
       "    else if (event.altKey && event.key !== 'Alt') {\n",
       "        value += 'alt+';\n",
       "    }\n",
       "    else if (event.shiftKey && event.key !== 'Shift') {\n",
       "        value += 'shift+';\n",
       "    }\n",
       "\n",
       "    value += 'k' + event.key;\n",
       "\n",
       "    this._key_event_extra(event, name);\n",
       "\n",
       "    this.send_message(name, { key: value, guiEvent: simpleKeys(event) });\n",
       "    return false;\n",
       "};\n",
       "\n",
       "mpl.figure.prototype.toolbar_button_onclick = function (name) {\n",
       "    if (name === 'download') {\n",
       "        this.handle_save(this, null);\n",
       "    } else {\n",
       "        this.send_message('toolbar_button', { name: name });\n",
       "    }\n",
       "};\n",
       "\n",
       "mpl.figure.prototype.toolbar_button_onmouseover = function (tooltip) {\n",
       "    this.message.textContent = tooltip;\n",
       "};\n",
       "\n",
       "///////////////// REMAINING CONTENT GENERATED BY embed_js.py /////////////////\n",
       "// prettier-ignore\n",
       "var _JSXTOOLS_RESIZE_OBSERVER=function(A){var t,i=new WeakMap,n=new WeakMap,a=new WeakMap,r=new WeakMap,o=new Set;function s(e){if(!(this instanceof s))throw new TypeError(\"Constructor requires 'new' operator\");i.set(this,e)}function h(){throw new TypeError(\"Function is not a constructor\")}function c(e,t,i,n){e=0 in arguments?Number(arguments[0]):0,t=1 in arguments?Number(arguments[1]):0,i=2 in arguments?Number(arguments[2]):0,n=3 in arguments?Number(arguments[3]):0,this.right=(this.x=this.left=e)+(this.width=i),this.bottom=(this.y=this.top=t)+(this.height=n),Object.freeze(this)}function d(){t=requestAnimationFrame(d);var s=new WeakMap,p=new Set;o.forEach((function(t){r.get(t).forEach((function(i){var r=t instanceof window.SVGElement,o=a.get(t),d=r?0:parseFloat(o.paddingTop),f=r?0:parseFloat(o.paddingRight),l=r?0:parseFloat(o.paddingBottom),u=r?0:parseFloat(o.paddingLeft),g=r?0:parseFloat(o.borderTopWidth),m=r?0:parseFloat(o.borderRightWidth),w=r?0:parseFloat(o.borderBottomWidth),b=u+f,F=d+l,v=(r?0:parseFloat(o.borderLeftWidth))+m,W=g+w,y=r?0:t.offsetHeight-W-t.clientHeight,E=r?0:t.offsetWidth-v-t.clientWidth,R=b+v,z=F+W,M=r?t.width:parseFloat(o.width)-R-E,O=r?t.height:parseFloat(o.height)-z-y;if(n.has(t)){var k=n.get(t);if(k[0]===M&&k[1]===O)return}n.set(t,[M,O]);var S=Object.create(h.prototype);S.target=t,S.contentRect=new c(u,d,M,O),s.has(i)||(s.set(i,[]),p.add(i)),s.get(i).push(S)}))})),p.forEach((function(e){i.get(e).call(e,s.get(e),e)}))}return s.prototype.observe=function(i){if(i instanceof window.Element){r.has(i)||(r.set(i,new Set),o.add(i),a.set(i,window.getComputedStyle(i)));var n=r.get(i);n.has(this)||n.add(this),cancelAnimationFrame(t),t=requestAnimationFrame(d)}},s.prototype.unobserve=function(i){if(i instanceof window.Element&&r.has(i)){var n=r.get(i);n.has(this)&&(n.delete(this),n.size||(r.delete(i),o.delete(i))),n.size||r.delete(i),o.size||cancelAnimationFrame(t)}},A.DOMRectReadOnly=c,A.ResizeObserver=s,A.ResizeObserverEntry=h,A}; // eslint-disable-line\n",
       "mpl.toolbar_items = [[\"Home\", \"Reset original view\", \"fa fa-home icon-home\", \"home\"], [\"Back\", \"Back to previous view\", \"fa fa-arrow-left icon-arrow-left\", \"back\"], [\"Forward\", \"Forward to next view\", \"fa fa-arrow-right icon-arrow-right\", \"forward\"], [\"\", \"\", \"\", \"\"], [\"Pan\", \"Left button pans, Right button zooms\\nx/y fixes axis, CTRL fixes aspect\", \"fa fa-arrows icon-move\", \"pan\"], [\"Zoom\", \"Zoom to rectangle\\nx/y fixes axis\", \"fa fa-square-o icon-check-empty\", \"zoom\"], [\"\", \"\", \"\", \"\"], [\"Download\", \"Download plot\", \"fa fa-floppy-o icon-save\", \"download\"]];\n",
       "\n",
       "mpl.extensions = [\"eps\", \"jpeg\", \"pgf\", \"pdf\", \"png\", \"ps\", \"raw\", \"svg\", \"tif\"];\n",
       "\n",
       "mpl.default_extension = \"png\";/* global mpl */\n",
       "\n",
       "var comm_websocket_adapter = function (comm) {\n",
       "    // Create a \"websocket\"-like object which calls the given IPython comm\n",
       "    // object with the appropriate methods. Currently this is a non binary\n",
       "    // socket, so there is still some room for performance tuning.\n",
       "    var ws = {};\n",
       "\n",
       "    ws.binaryType = comm.kernel.ws.binaryType;\n",
       "    ws.readyState = comm.kernel.ws.readyState;\n",
       "    function updateReadyState(_event) {\n",
       "        if (comm.kernel.ws) {\n",
       "            ws.readyState = comm.kernel.ws.readyState;\n",
       "        } else {\n",
       "            ws.readyState = 3; // Closed state.\n",
       "        }\n",
       "    }\n",
       "    comm.kernel.ws.addEventListener('open', updateReadyState);\n",
       "    comm.kernel.ws.addEventListener('close', updateReadyState);\n",
       "    comm.kernel.ws.addEventListener('error', updateReadyState);\n",
       "\n",
       "    ws.close = function () {\n",
       "        comm.close();\n",
       "    };\n",
       "    ws.send = function (m) {\n",
       "        //console.log('sending', m);\n",
       "        comm.send(m);\n",
       "    };\n",
       "    // Register the callback with on_msg.\n",
       "    comm.on_msg(function (msg) {\n",
       "        //console.log('receiving', msg['content']['data'], msg);\n",
       "        var data = msg['content']['data'];\n",
       "        if (data['blob'] !== undefined) {\n",
       "            data = {\n",
       "                data: new Blob(msg['buffers'], { type: data['blob'] }),\n",
       "            };\n",
       "        }\n",
       "        // Pass the mpl event to the overridden (by mpl) onmessage function.\n",
       "        ws.onmessage(data);\n",
       "    });\n",
       "    return ws;\n",
       "};\n",
       "\n",
       "mpl.mpl_figure_comm = function (comm, msg) {\n",
       "    // This is the function which gets called when the mpl process\n",
       "    // starts-up an IPython Comm through the \"matplotlib\" channel.\n",
       "\n",
       "    var id = msg.content.data.id;\n",
       "    // Get hold of the div created by the display call when the Comm\n",
       "    // socket was opened in Python.\n",
       "    var element = document.getElementById(id);\n",
       "    var ws_proxy = comm_websocket_adapter(comm);\n",
       "\n",
       "    function ondownload(figure, _format) {\n",
       "        window.open(figure.canvas.toDataURL());\n",
       "    }\n",
       "\n",
       "    var fig = new mpl.figure(id, ws_proxy, ondownload, element);\n",
       "\n",
       "    // Call onopen now - mpl needs it, as it is assuming we've passed it a real\n",
       "    // web socket which is closed, not our websocket->open comm proxy.\n",
       "    ws_proxy.onopen();\n",
       "\n",
       "    fig.parent_element = element;\n",
       "    fig.cell_info = mpl.find_output_cell(\"<div id='\" + id + \"'></div>\");\n",
       "    if (!fig.cell_info) {\n",
       "        console.error('Failed to find cell for figure', id, fig);\n",
       "        return;\n",
       "    }\n",
       "    fig.cell_info[0].output_area.element.on(\n",
       "        'cleared',\n",
       "        { fig: fig },\n",
       "        fig._remove_fig_handler\n",
       "    );\n",
       "};\n",
       "\n",
       "mpl.figure.prototype.handle_close = function (fig, msg) {\n",
       "    var width = fig.canvas.width / fig.ratio;\n",
       "    fig.cell_info[0].output_area.element.off(\n",
       "        'cleared',\n",
       "        fig._remove_fig_handler\n",
       "    );\n",
       "    fig.resizeObserverInstance.unobserve(fig.canvas_div);\n",
       "\n",
       "    // Update the output cell to use the data from the current canvas.\n",
       "    fig.push_to_output();\n",
       "    var dataURL = fig.canvas.toDataURL();\n",
       "    // Re-enable the keyboard manager in IPython - without this line, in FF,\n",
       "    // the notebook keyboard shortcuts fail.\n",
       "    IPython.keyboard_manager.enable();\n",
       "    fig.parent_element.innerHTML =\n",
       "        '<img src=\"' + dataURL + '\" width=\"' + width + '\">';\n",
       "    fig.close_ws(fig, msg);\n",
       "};\n",
       "\n",
       "mpl.figure.prototype.close_ws = function (fig, msg) {\n",
       "    fig.send_message('closing', msg);\n",
       "    // fig.ws.close()\n",
       "};\n",
       "\n",
       "mpl.figure.prototype.push_to_output = function (_remove_interactive) {\n",
       "    // Turn the data on the canvas into data in the output cell.\n",
       "    var width = this.canvas.width / this.ratio;\n",
       "    var dataURL = this.canvas.toDataURL();\n",
       "    this.cell_info[1]['text/html'] =\n",
       "        '<img src=\"' + dataURL + '\" width=\"' + width + '\">';\n",
       "};\n",
       "\n",
       "mpl.figure.prototype.updated_canvas_event = function () {\n",
       "    // Tell IPython that the notebook contents must change.\n",
       "    IPython.notebook.set_dirty(true);\n",
       "    this.send_message('ack', {});\n",
       "    var fig = this;\n",
       "    // Wait a second, then push the new image to the DOM so\n",
       "    // that it is saved nicely (might be nice to debounce this).\n",
       "    setTimeout(function () {\n",
       "        fig.push_to_output();\n",
       "    }, 1000);\n",
       "};\n",
       "\n",
       "mpl.figure.prototype._init_toolbar = function () {\n",
       "    var fig = this;\n",
       "\n",
       "    var toolbar = document.createElement('div');\n",
       "    toolbar.classList = 'btn-toolbar';\n",
       "    this.root.appendChild(toolbar);\n",
       "\n",
       "    function on_click_closure(name) {\n",
       "        return function (_event) {\n",
       "            return fig.toolbar_button_onclick(name);\n",
       "        };\n",
       "    }\n",
       "\n",
       "    function on_mouseover_closure(tooltip) {\n",
       "        return function (event) {\n",
       "            if (!event.currentTarget.disabled) {\n",
       "                return fig.toolbar_button_onmouseover(tooltip);\n",
       "            }\n",
       "        };\n",
       "    }\n",
       "\n",
       "    fig.buttons = {};\n",
       "    var buttonGroup = document.createElement('div');\n",
       "    buttonGroup.classList = 'btn-group';\n",
       "    var button;\n",
       "    for (var toolbar_ind in mpl.toolbar_items) {\n",
       "        var name = mpl.toolbar_items[toolbar_ind][0];\n",
       "        var tooltip = mpl.toolbar_items[toolbar_ind][1];\n",
       "        var image = mpl.toolbar_items[toolbar_ind][2];\n",
       "        var method_name = mpl.toolbar_items[toolbar_ind][3];\n",
       "\n",
       "        if (!name) {\n",
       "            /* Instead of a spacer, we start a new button group. */\n",
       "            if (buttonGroup.hasChildNodes()) {\n",
       "                toolbar.appendChild(buttonGroup);\n",
       "            }\n",
       "            buttonGroup = document.createElement('div');\n",
       "            buttonGroup.classList = 'btn-group';\n",
       "            continue;\n",
       "        }\n",
       "\n",
       "        button = fig.buttons[name] = document.createElement('button');\n",
       "        button.classList = 'btn btn-default';\n",
       "        button.href = '#';\n",
       "        button.title = name;\n",
       "        button.innerHTML = '<i class=\"fa ' + image + ' fa-lg\"></i>';\n",
       "        button.addEventListener('click', on_click_closure(method_name));\n",
       "        button.addEventListener('mouseover', on_mouseover_closure(tooltip));\n",
       "        buttonGroup.appendChild(button);\n",
       "    }\n",
       "\n",
       "    if (buttonGroup.hasChildNodes()) {\n",
       "        toolbar.appendChild(buttonGroup);\n",
       "    }\n",
       "\n",
       "    // Add the status bar.\n",
       "    var status_bar = document.createElement('span');\n",
       "    status_bar.classList = 'mpl-message pull-right';\n",
       "    toolbar.appendChild(status_bar);\n",
       "    this.message = status_bar;\n",
       "\n",
       "    // Add the close button to the window.\n",
       "    var buttongrp = document.createElement('div');\n",
       "    buttongrp.classList = 'btn-group inline pull-right';\n",
       "    button = document.createElement('button');\n",
       "    button.classList = 'btn btn-mini btn-primary';\n",
       "    button.href = '#';\n",
       "    button.title = 'Stop Interaction';\n",
       "    button.innerHTML = '<i class=\"fa fa-power-off icon-remove icon-large\"></i>';\n",
       "    button.addEventListener('click', function (_evt) {\n",
       "        fig.handle_close(fig, {});\n",
       "    });\n",
       "    button.addEventListener(\n",
       "        'mouseover',\n",
       "        on_mouseover_closure('Stop Interaction')\n",
       "    );\n",
       "    buttongrp.appendChild(button);\n",
       "    var titlebar = this.root.querySelector('.ui-dialog-titlebar');\n",
       "    titlebar.insertBefore(buttongrp, titlebar.firstChild);\n",
       "};\n",
       "\n",
       "mpl.figure.prototype._remove_fig_handler = function (event) {\n",
       "    var fig = event.data.fig;\n",
       "    if (event.target !== this) {\n",
       "        // Ignore bubbled events from children.\n",
       "        return;\n",
       "    }\n",
       "    fig.close_ws(fig, {});\n",
       "};\n",
       "\n",
       "mpl.figure.prototype._root_extra_style = function (el) {\n",
       "    el.style.boxSizing = 'content-box'; // override notebook setting of border-box.\n",
       "};\n",
       "\n",
       "mpl.figure.prototype._canvas_extra_style = function (el) {\n",
       "    // this is important to make the div 'focusable\n",
       "    el.setAttribute('tabindex', 0);\n",
       "    // reach out to IPython and tell the keyboard manager to turn it's self\n",
       "    // off when our div gets focus\n",
       "\n",
       "    // location in version 3\n",
       "    if (IPython.notebook.keyboard_manager) {\n",
       "        IPython.notebook.keyboard_manager.register_events(el);\n",
       "    } else {\n",
       "        // location in version 2\n",
       "        IPython.keyboard_manager.register_events(el);\n",
       "    }\n",
       "};\n",
       "\n",
       "mpl.figure.prototype._key_event_extra = function (event, _name) {\n",
       "    // Check for shift+enter\n",
       "    if (event.shiftKey && event.which === 13) {\n",
       "        this.canvas_div.blur();\n",
       "        // select the cell after this one\n",
       "        var index = IPython.notebook.find_cell_index(this.cell_info[0]);\n",
       "        IPython.notebook.select(index + 1);\n",
       "    }\n",
       "};\n",
       "\n",
       "mpl.figure.prototype.handle_save = function (fig, _msg) {\n",
       "    fig.ondownload(fig, null);\n",
       "};\n",
       "\n",
       "mpl.find_output_cell = function (html_output) {\n",
       "    // Return the cell and output element which can be found *uniquely* in the notebook.\n",
       "    // Note - this is a bit hacky, but it is done because the \"notebook_saving.Notebook\"\n",
       "    // IPython event is triggered only after the cells have been serialised, which for\n",
       "    // our purposes (turning an active figure into a static one), is too late.\n",
       "    var cells = IPython.notebook.get_cells();\n",
       "    var ncells = cells.length;\n",
       "    for (var i = 0; i < ncells; i++) {\n",
       "        var cell = cells[i];\n",
       "        if (cell.cell_type === 'code') {\n",
       "            for (var j = 0; j < cell.output_area.outputs.length; j++) {\n",
       "                var data = cell.output_area.outputs[j];\n",
       "                if (data.data) {\n",
       "                    // IPython >= 3 moved mimebundle to data attribute of output\n",
       "                    data = data.data;\n",
       "                }\n",
       "                if (data['text/html'] === html_output) {\n",
       "                    return [cell, data, j];\n",
       "                }\n",
       "            }\n",
       "        }\n",
       "    }\n",
       "};\n",
       "\n",
       "// Register the function which deals with the matplotlib target/channel.\n",
       "// The kernel may be null if the page has been refreshed.\n",
       "if (IPython.notebook.kernel !== null) {\n",
       "    IPython.notebook.kernel.comm_manager.register_target(\n",
       "        'matplotlib',\n",
       "        mpl.mpl_figure_comm\n",
       "    );\n",
       "}\n"
      ],
      "text/plain": [
       "<IPython.core.display.Javascript object>"
      ]
     },
     "metadata": {},
     "output_type": "display_data"
    },
    {
     "data": {
      "text/html": [
       "<img src=\"data:image/png;base64,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\" width=\"1000\">"
      ],
      "text/plain": [
       "<IPython.core.display.HTML object>"
      ]
     },
     "metadata": {},
     "output_type": "display_data"
    }
   ],
   "source": [
    "# plot the results - for fun!\n",
    "plt.figure(figsize=(10,8))\n",
    "plt.imshow(image, cmap='inferno')\n",
    "plt.colorbar();"
   ]
  },
  {
   "cell_type": "markdown",
   "metadata": {},
   "source": [
    "Before optimizing, lets deteremine the speed of the default algorithm. \n",
    " \n",
    "Note: timeit is a magic command part of those defined [here](https://ipython.readthedocs.io/en/stable/interactive/magics.html)\n",
    "\n",
    "Rerun our \"program\", the two image lines from before, using `timeit` for a cell.  "
   ]
  },
  {
   "cell_type": "code",
   "execution_count": 24,
   "metadata": {},
   "outputs": [
    {
     "name": "stdout",
     "output_type": "stream",
     "text": [
      "3.64 s ± 62.9 ms per loop (mean ± std. dev. of 7 runs, 1 loop each)\n"
     ]
    }
   ],
   "source": [
    "%%timeit\n",
    "image = np.zeros((500 * 2, 750 * 2), dtype=np.uint8)\n",
    "image = create_fractal(-2.0, 1.0, -1.0, 1.0, image, 20)"
   ]
  },
  {
   "cell_type": "markdown",
   "metadata": {},
   "source": [
    "**Problem 2b** Rewrite and time the Mendelbrot routines using Numba decorators specifying no python:\n",
    "\n",
    "Note: the `@njit` decorator is equivalent to `@jit(nopython=True)`."
   ]
  },
  {
   "cell_type": "code",
   "execution_count": 25,
   "metadata": {},
   "outputs": [],
   "source": [
    "# complete\n",
    "\n",
    "@numba.njit\n",
    "def mandel_numba(x, y, max_iters):\n",
    "    \"\"\"\n",
    "    Given the real and imaginary parts of a complex number,\n",
    "    determine if it is a candidate for membership in the Mandelbrot\n",
    "    set given a fixed number of iterations.\n",
    "    \"\"\"\n",
    "    i = 0\n",
    "    c = complex(x, y)\n",
    "    z = 0.0j\n",
    "    for i in range(max_iters):\n",
    "        z = z * z + c\n",
    "        if (z.real * z.real + z.imag * z.imag) >= 4:\n",
    "            return i\n",
    "\n",
    "    return 255\n",
    "\n",
    "@numba.njit\n",
    "def create_fractal_numba(min_x, max_x, min_y, max_y, image, iters):\n",
    "    height = image.shape[0]\n",
    "    width = image.shape[1]\n",
    "\n",
    "    pixel_size_x = (max_x - min_x) / width\n",
    "    pixel_size_y = (max_y - min_y) / height\n",
    "    for x in range(width):\n",
    "        real = min_x + x * pixel_size_x\n",
    "        for y in range(height):\n",
    "            imag = min_y + y * pixel_size_y\n",
    "            color = mandel_numba(real, imag, iters)\n",
    "            image[y, x] = color\n",
    "\n",
    "    return image"
   ]
  },
  {
   "cell_type": "markdown",
   "metadata": {},
   "source": [
    "Use the `timeit` tool again to see if you obtained a speedup.\n",
    "\n",
    "Hint: You should see a speedup!"
   ]
  },
  {
   "cell_type": "code",
   "execution_count": 28,
   "metadata": {},
   "outputs": [
    {
     "name": "stdout",
     "output_type": "stream",
     "text": [
      "39 ms ± 625 µs per loop (mean ± std. dev. of 7 runs, 10 loops each)\n"
     ]
    }
   ],
   "source": [
    "%%timeit\n",
    "image_numba = np.zeros((500 * 2, 750 * 2), dtype=np.uint8)\n",
    "image_numba = create_fractal_numba(-2.0, 1.0, -1.0, 1.0, image, 20)"
   ]
  },
  {
   "cell_type": "markdown",
   "metadata": {},
   "source": [
    "**Question**: What is going on? What is Numba doing and why is this example so much faster than our `Hypot` example?\n",
    "    \n",
    "**Answer**: Numba reads the Python bytecode for a decorated function and combines this with information about the types of the input arguments to the function. It analyzes and optimizes your code, and finally uses the LLVM compiler library to generate a machine code version of your function, **targeted to your CPU** capabilities. This compiled version is then used every time your function is called.    \n",
    "\n",
    "Numba excels with \n",
    "- loops\n",
    "- fastmath\n",
    "- linear algebra\n",
    "\n",
    "read more about these performance tips [here](https://numba.pydata.org/numba-doc/latest/user/performance-tips.html#performance-tips). \n",
    "\n",
    "We benefitted from significant speedup in Problem 2 in part by being able to parallelize the nested loop in `create_fractal`.\n",
    "    "
   ]
  },
  {
   "cell_type": "markdown",
   "metadata": {},
   "source": [
    "## Problem 3) Exposing parallelization in complex programs: Cavity Flow\n",
    "Now, lets consider a \"program\" or set of instructions that take place perform a given task. \n",
    "\n",
    "The following example is based on the Cavity Flow example as part of [Scipy 2017](https://github.com/gforsyth/numba_tutorial_scipy2017/blob/master/notebooks/05.1.Cavity_Flow.ipynb).\n",
    "\n",
    "The two-dimensional (2D) lid-driven cavity is a well-known benchmark problem for viscous incompressible fluid flow. The problem describes a rectangular cavity with constant velocity at the lid. The resulting velocity field shows a signiture spiral flow pattern with two pressure deficits. We will be interested in solving the pressure field. \n",
    "\n",
    "![CavityFlow](https://j.gifs.com/vnJ88M.gif)\n",
    "\n",
    "The pressure field is given by the Poisson equation, an [elliptic PDE](https://en.wikipedia.org/wiki/Elliptic_partial_differential_equation) with a solution of the form:"
   ]
  },
  {
   "cell_type": "markdown",
   "metadata": {},
   "source": [
    "**Equation 1**\n",
    "$$\n",
    "\\begin{align}\n",
    "    p_{i,j}^{n+1} &= \\frac{1}{4}\\left(p_{i+1,j}^{n}+p_{i-1,j}^{n}+p_{i,j+1}^{n}+p_{i,j-1}^{n}\\right)\\\\\\\\\n",
    "    &-\\frac{\\rho \\Delta x}{16} \\left( \\frac{2}{\\Delta t} \\left(u_{i+1,j} - u_{i-1,j} + v_{i,j+1} - v_{i,j-1}\\right) \\right . \\\\\\\\\n",
    "    &-\\frac{2}{\\Delta x}\\left(u_{i,j+1} - u_{i,j-1} \\right) \\left(v_{i+1,j} - v_{i-1,j} \\right) \\\\\\\\\n",
    "    &- \\left . \\frac{\\left(u_{i+1,j} - u_{i-1,j} \\right)^2}{\\Delta x}\n",
    "    - \\frac{ \\left(v_{i,j+1} - v_{i,j-1} \\right)^2 }{\\Delta x} \\right)\\\\\\\\\n",
    "   \\end{align} \n",
    "$$"
   ]
  },
  {
   "cell_type": "markdown",
   "metadata": {},
   "source": [
    "We will start by writing out the terms of Equation 1. This has been done for you. "
   ]
  },
  {
   "cell_type": "code",
   "execution_count": 29,
   "metadata": {},
   "outputs": [],
   "source": [
    "# solves the velocity terms of Eqn 1. \n",
    "def velocity_term(b, rho, dt, u, v, dx):\n",
    "    b[1:-1, 1:-1] = (\n",
    "        rho * dx / 16 * \n",
    "        (2 / dt * (u[2:, 1:-1] - \n",
    "                   u[:-2, 1:-1] + \n",
    "                   v[1:-1, 2:] - \n",
    "                   v[1:-1, :-2]) - \n",
    "        2 / dx * (u[1:-1, 2:] - u[1:-1, :-2]) *\n",
    "                 (v[2:, 1:-1] - v[:-2, 1:-1]) - \n",
    "        (u[2:, 1:-1] - u[:-2, 1:-1])**2 / dx - \n",
    "        (v[1:-1, 2:] - v[1:-1, :-2])**2 / dx)\n",
    "                     )\n",
    "\n",
    "    return b"
   ]
  },
  {
   "cell_type": "code",
   "execution_count": 30,
   "metadata": {},
   "outputs": [],
   "source": [
    "# solves the first term of Eqn 1. \n",
    "def pressure_poisson(p, b, l2_target):\n",
    "    iter_diff = l2_target + 1\n",
    "    n = 0\n",
    "    while iter_diff > l2_target and n <= 500:\n",
    "\n",
    "        pn = p.copy()\n",
    "        p[1:-1,1:-1] = (.25 * (pn[2:, 1:-1] +\n",
    "                               pn[:-2, 1:-1] +\n",
    "                               pn[1:-1, 2:] +\n",
    "                               pn[1:-1, :-2]) -\n",
    "                               b[1:-1, 1:-1])\n",
    "\n",
    "        p[:, 0] = p[:, 1]   #dp/dy = 0 at y = 0\n",
    "        p[:, -1] = 0        #p = 0 at y = 2\n",
    "        p[0, :] = p[1, :]   #dp/dx = 0 at x = 0\n",
    "        p[-1, :] = p[-2, :] #dp/dy = 0 at x = 2\n",
    "      \n",
    "        \n",
    "        if n % 10 == 0:\n",
    "            iter_diff = np.sqrt(np.sum((p - pn)**2)/np.sum(pn**2))\n",
    "                    \n",
    "        n += 1\n",
    "        \n",
    "    return p"
   ]
  },
  {
   "cell_type": "markdown",
   "metadata": {},
   "source": [
    "Next, to help alleviate hard coding and to focus on optimatization, we will load a file `ns_helper` that contains the additional information for the Cavity Flow problem and solution to the [Navier-Stokes equations](https://en.wikipedia.org/wiki/Navier%E2%80%93Stokes_equations#Stream_function_for_incompressible_2D_fluid) using finite-difference methods (https://en.wikipedia.org/wiki/Finite_difference_method)."
   ]
  },
  {
   "cell_type": "code",
   "execution_count": 31,
   "metadata": {},
   "outputs": [],
   "source": [
    "import ns_helper"
   ]
  },
  {
   "cell_type": "markdown",
   "metadata": {},
   "source": [
    "We will also want to import initial condition for the velocity field. We will utilize [pickle](https://docs.python.org/3/library/pickle.html). `pickle` examples can be found [here](https://docs.python.org/3/library/pickle.html#examples). Our initial data live in `IC.pickle`."
   ]
  },
  {
   "cell_type": "code",
   "execution_count": 32,
   "metadata": {},
   "outputs": [],
   "source": [
    "import pickle"
   ]
  },
  {
   "cell_type": "markdown",
   "metadata": {},
   "source": [
    "**Problem 3a** Write your program to use the necessary pieces to solve the equation:"
   ]
  },
  {
   "cell_type": "code",
   "execution_count": 33,
   "metadata": {},
   "outputs": [],
   "source": [
    "def run_cavity():\n",
    "    nx = 41 # fixed to 41 \n",
    "    ny = 41 # fixed to 41 \n",
    "    with open('IC.pickle', 'rb') as f:\n",
    "        u, v, p, b = pickle.load(f)\n",
    "\n",
    "    dx = 2 / (nx - 1) \n",
    "    dt = .005 # < 0.1\n",
    "    nt = 1000 #< 1000\n",
    "    \n",
    "    # call cavity flow here - view `ns_helper` to determine the required args and output\n",
    "    return ns_helper.cavity_flow(u, v, p, nt, dt, dx, velocity_term, pressure_poisson, rho=1, nu=0.1, rtol=1e-3)\n",
    "    "
   ]
  },
  {
   "cell_type": "markdown",
   "metadata": {},
   "source": [
    "**Problem 3b** Call your program"
   ]
  },
  {
   "cell_type": "code",
   "execution_count": 35,
   "metadata": {},
   "outputs": [
    {
     "name": "stdout",
     "output_type": "stream",
     "text": [
      "[[ 0.00000000e+00  0.00000000e+00  0.00000000e+00 ...  0.00000000e+00\n",
      "   0.00000000e+00  1.00000000e+00]\n",
      " [ 0.00000000e+00  1.22327380e-05 -1.24767890e-04 ...  1.36532049e-01\n",
      "   3.62224109e-01  1.00000000e+00]\n",
      " [ 0.00000000e+00 -3.74179733e-05 -3.95229185e-04 ...  2.21118217e-01\n",
      "   4.87854441e-01  1.00000000e+00]\n",
      " ...\n",
      " [ 0.00000000e+00 -2.35917901e-05 -3.64780367e-04 ...  2.49115358e-01\n",
      "   5.11032795e-01  1.00000000e+00]\n",
      " [ 0.00000000e+00  1.99376262e-05 -1.09219075e-04 ...  1.55572670e-01\n",
      "   3.87436654e-01  1.00000000e+00]\n",
      " [ 0.00000000e+00  0.00000000e+00  0.00000000e+00 ...  0.00000000e+00\n",
      "   0.00000000e+00  1.00000000e+00]]\n"
     ]
    }
   ],
   "source": [
    "u,v,p = run_cavity()\n",
    "print(u)"
   ]
  },
  {
   "cell_type": "markdown",
   "metadata": {},
   "source": [
    "**Problem 3c** `ns_helper` also contains a helper function to plot the resulting pressure field - `quiver_plot`. Import this function and run it using the results of your program run:"
   ]
  },
  {
   "cell_type": "code",
   "execution_count": null,
   "metadata": {},
   "outputs": [],
   "source": [
    " # complete"
   ]
  },
  {
   "cell_type": "code",
   "execution_count": null,
   "metadata": {},
   "outputs": [],
   "source": [
    " # complete"
   ]
  },
  {
   "cell_type": "markdown",
   "metadata": {},
   "source": [
    "*Hint: you should see something that looks like the gif from earlier, but with contours, quivers, and a better colormap!*"
   ]
  },
  {
   "cell_type": "markdown",
   "metadata": {},
   "source": [
    "**Problem 3d** Now, we want to begin profiling our program and determining its speed. To do this, we will need to add additional steps. \n",
    "\n",
    "1. Run our magic `timeit` command. \n",
    "\n",
    "2. Load the `line_profiler` tool that we downloaded. This tool is described [here](https://ipython-books.github.io/43-profiling-your-code-line-by-line-with-line_profiler/).\n",
    "\n",
    "3. Run the `line_profiler` tool.\n",
    "\n",
    "*Hint: you will want to use the magic command `lprun` with flags `-f main_program our_program()`*.\n",
    "\n",
    "In this case, `main_program` would be the `cavity_flow` program we loaded from the helper file and `our_program` would be the program we defined in *Problem 3a*. \n",
    "\n",
    "Running `lprun` will bring up a diagnostic window describing our program. "
   ]
  },
  {
   "cell_type": "markdown",
   "metadata": {},
   "source": [
    "**Problem 3e** Analysis `lprun` window to identify the part of the program using the largest `% Time`. Guidance on interpreting `line_profile` diagnostics can be found [here](https://github.com/pyutils/line_profiler). Hint, it should be taking about 70% of total runtime. "
   ]
  },
  {
   "cell_type": "code",
   "execution_count": null,
   "metadata": {},
   "outputs": [],
   "source": [
    " # complete"
   ]
  },
  {
   "cell_type": "code",
   "execution_count": null,
   "metadata": {},
   "outputs": [],
   "source": [
    " # complete"
   ]
  },
  {
   "cell_type": "code",
   "execution_count": null,
   "metadata": {},
   "outputs": [],
   "source": [
    " # complete"
   ]
  },
  {
   "cell_type": "markdown",
   "metadata": {},
   "source": [
    "**Problem 3f** Speed up the slowest part of the program using Numba:"
   ]
  },
  {
   "cell_type": "code",
   "execution_count": null,
   "metadata": {},
   "outputs": [],
   "source": [
    " # complete"
   ]
  },
  {
   "cell_type": "code",
   "execution_count": null,
   "metadata": {},
   "outputs": [],
   "source": [
    " # complete\n",
    "def pressure_poisson(p, b, l2_target):\n",
    "    I, J = b.shape\n",
    "\n",
    "    iter_diff = l2_target + 1\n",
    "\n",
    "    n = 0\n",
    "    while iter_diff > l2_target and n <= 500:\n",
    "        pn = p.copy()\n",
    "        for i in range(1, I - 1):\n",
    "            for j in range(1, J - 1):\n",
    "                p[i, j] = (.25 * (pn[i, j + 1] +\n",
    "                                  pn[i, j - 1] +\n",
    "                                  pn[i + 1, j] +\n",
    "                                  pn[i - 1, j]) -\n",
    "                                  b[i, j])\n",
    "\n",
    "        for i in range(I):\n",
    "            p[i, 0] = p[i, 1]\n",
    "            p[i, -1] = 0\n",
    "\n",
    "        for j in range(J):\n",
    "            p[0, j] = p[1, j]\n",
    "            p[-1, j] = p[-2, j]\n",
    "\n",
    "        if n % 10 == 0:\n",
    "            iter_diff = np.sqrt(np.sum((p - pn)**2)/np.sum(pn**2))\n",
    "\n",
    "        n += 1\n",
    "\n",
    "    return p"
   ]
  },
  {
   "cell_type": "markdown",
   "metadata": {},
   "source": [
    "**Problem 3g** Call your program `run_cavity` with u,v,p array named differently to distinguish them from the unpotimized values. \n",
    "\n",
    "Note: Calling the program after redifining the slowest routine will replace the unoptimized but not if cells are executed out of order."
   ]
  },
  {
   "cell_type": "code",
   "execution_count": null,
   "metadata": {},
   "outputs": [],
   "source": [
    " # complete"
   ]
  },
  {
   "cell_type": "markdown",
   "metadata": {},
   "source": [
    "To ensure that our solution is equivalent to the unoptimized version (it should be). We can use the numpy all close function and compare `p` to `p_numba`, `u` to `u_numba` etc. Numpy all close is described [here](https://numpy.org/doc/stable/reference/generated/numpy.allclose.html)."
   ]
  },
  {
   "cell_type": "code",
   "execution_count": null,
   "metadata": {},
   "outputs": [],
   "source": [
    " # complete\n",
    " # complete\n",
    " # complete"
   ]
  },
  {
   "cell_type": "markdown",
   "metadata": {},
   "source": [
    "And just to be sure sure, plot the new data using `quiver_plot` again.."
   ]
  },
  {
   "cell_type": "code",
   "execution_count": null,
   "metadata": {
    "scrolled": false
   },
   "outputs": [],
   "source": [
    " # complete"
   ]
  },
  {
   "cell_type": "markdown",
   "metadata": {},
   "source": [
    "Finally, run our line_profile tool to see if we observed a speedup. \n",
    "\n",
    "Hint: we should!\n",
    "    \n",
    "Question: can you idenity any other regions that could be straightforwardly improved using Numba?"
   ]
  },
  {
   "cell_type": "code",
   "execution_count": null,
   "metadata": {},
   "outputs": [],
   "source": [
    " # complete"
   ]
  },
  {
   "cell_type": "code",
   "execution_count": null,
   "metadata": {},
   "outputs": [],
   "source": [
    " # complete"
   ]
  },
  {
   "cell_type": "markdown",
   "metadata": {},
   "source": [
    "## Problem 4) Creating custom Numpy universal functions\n",
    "\n",
    "*Numba’s vectorize allows Python functions taking scalar input arguments to be used as NumPy ufuncs. Creating a traditional NumPy ufunc is not not the most straightforward process and involves writing some C code. Numba makes this easy. Using the `vectorize()` decorator, Numba can compile a pure Python function into a ufunc that operates over NumPy arrays as fast as traditional ufuncs written in C.*\n",
    "\n",
    "Documentation can be found [here](http://numba.pydata.org/numba-doc/0.17.0/user/vectorize.html#the-guvectorize-decorator)."
   ]
  },
  {
   "cell_type": "markdown",
   "metadata": {},
   "source": [
    "**Problem 4a** Create arrays `x` and `y` and of dimensions 1000 by 1000 filled with random numbers."
   ]
  },
  {
   "cell_type": "code",
   "execution_count": null,
   "metadata": {},
   "outputs": [],
   "source": [
    " # complete\n",
    " # complete"
   ]
  },
  {
   "cell_type": "code",
   "execution_count": null,
   "metadata": {},
   "outputs": [],
   "source": [
    "def do_trig(x, y):\n",
    "    z = np.sin(x**2) + np.cos(y)\n",
    "    return z"
   ]
  },
  {
   "cell_type": "markdown",
   "metadata": {},
   "source": [
    "**Problem 4b** Pass the created arrays to `do_trig` and time the results using `timeit`."
   ]
  },
  {
   "cell_type": "code",
   "execution_count": null,
   "metadata": {},
   "outputs": [],
   "source": [
    "original_time =  # complete"
   ]
  },
  {
   "cell_type": "markdown",
   "metadata": {},
   "source": [
    "**Problem 4c** Use the `jit` decorator to see if we can speed up the `do_trig` routine. Time the results."
   ]
  },
  {
   "cell_type": "code",
   "execution_count": null,
   "metadata": {},
   "outputs": [],
   "source": [
    " # complete\n",
    "def do_trig_jit(x, y):\n",
    "     # complete\n",
    "     # complete"
   ]
  },
  {
   "cell_type": "code",
   "execution_count": null,
   "metadata": {},
   "outputs": [],
   "source": [
    "jit_time =  # complete"
   ]
  },
  {
   "cell_type": "markdown",
   "metadata": {},
   "source": [
    "**Question**: Is the `jit` version faster? Discuss. Do we expect it to? Recall where `Numba` excels. "
   ]
  },
  {
   "cell_type": "markdown",
   "metadata": {},
   "source": [
    "**Problem 4d** Use the `vectorize` decorator to see if we can speed up the `do_trig` routine. Also specifically target `parallel` optimization here. More details on targets can be found [here](https://numba.pydata.org/numba-doc/latest/reference/jit-compilation.html?highlight=vectorize%20target#numba.vectorize).\n",
    "\n",
    "Hint: you will need to know the data types of the input arrays `x` and `y`. "
   ]
  },
  {
   "cell_type": "code",
   "execution_count": null,
   "metadata": {},
   "outputs": [],
   "source": [
    " # complete"
   ]
  },
  {
   "cell_type": "code",
   "execution_count": null,
   "metadata": {},
   "outputs": [],
   "source": [
    " # complete\n",
    "\n",
    " # complete\n",
    "def do_trig_vec(x, y):\n",
    "     # complete\n",
    "     # complete"
   ]
  },
  {
   "cell_type": "markdown",
   "metadata": {},
   "source": [
    "**Problem 4e** Once your new function is created. We want to perform a scaling study to determine how well it performs to the previous versions. First, use `Numba`'s `set_num_threads` and set the number to 1. Time the result and compare. "
   ]
  },
  {
   "cell_type": "code",
   "execution_count": null,
   "metadata": {},
   "outputs": [],
   "source": [
    " # complete"
   ]
  },
  {
   "cell_type": "code",
   "execution_count": null,
   "metadata": {},
   "outputs": [],
   "source": [
    " # complete"
   ]
  },
  {
   "cell_type": "code",
   "execution_count": null,
   "metadata": {},
   "outputs": [],
   "source": [
    " # complete"
   ]
  },
  {
   "cell_type": "markdown",
   "metadata": {},
   "source": [
    "**Problem 4f** \n",
    "\n",
    "**Question:** Discuss your results. Is it slower or faster? \n",
    "\n",
    "**Answer:** With one thread, it should be slower. We are currently not leveraging the multiple threads on our CPU and actually just spending cycles creating and destroying threads in our routine. "
   ]
  },
  {
   "cell_type": "markdown",
   "metadata": {},
   "source": [
    "**Problem 4g** Now, run the vectorized and parallel version of our function for `1,2,4` (and if your machine supports it `8` threads). Record the timing results for each and plot the number of threads vs. average completion time produced by `timeit`.\n",
    "\n",
    "*Note:  Typically OpenMP threads are usually limited to  2 times or times the number of cores of the CPU on a single CPU machine.* "
   ]
  },
  {
   "cell_type": "code",
   "execution_count": null,
   "metadata": {},
   "outputs": [],
   "source": [
    " # complete\n",
    " # complete"
   ]
  },
  {
   "cell_type": "code",
   "execution_count": null,
   "metadata": {},
   "outputs": [],
   "source": [
    " # complete\n",
    " # complete"
   ]
  },
  {
   "cell_type": "code",
   "execution_count": null,
   "metadata": {},
   "outputs": [],
   "source": [
    " # complete\n",
    " # complete"
   ]
  },
  {
   "cell_type": "code",
   "execution_count": null,
   "metadata": {},
   "outputs": [],
   "source": [
    "threads = np.array([1,2,4,\n",
    "                     # complete])\n",
    "\n",
    "timing = np.array([ # complete\n",
    "                    ])"
   ]
  },
  {
   "cell_type": "code",
   "execution_count": null,
   "metadata": {},
   "outputs": [],
   "source": [
    "%matplotlib inline"
   ]
  },
  {
   "cell_type": "code",
   "execution_count": null,
   "metadata": {},
   "outputs": [],
   "source": [
    " # complete\n",
    "plt.xlabel('Number of OMP Threads')\n",
    "plt.ylabel('Average completion time')\n",
    "plt.show()"
   ]
  },
  {
   "cell_type": "markdown",
   "metadata": {},
   "source": [
    "**Problem 4h** Lastly, plot the Speedup $$S_{p}= T_{1}/T_{p}$$ where $p$ is the number of threads used in this case."
   ]
  },
  {
   "cell_type": "code",
   "execution_count": null,
   "metadata": {},
   "outputs": [],
   "source": [
    " # complete\n",
    "plt.xlabel('Number of OMP Threads')\n",
    "plt.ylabel('Speedup')\n",
    "plt.show()"
   ]
  },
  {
   "cell_type": "markdown",
   "metadata": {},
   "source": [
    "**Question:** Ideal scaling would be a straight line: \n",
    "\n",
    "$$S_{p}=T_{1}/p$$\n",
    "\n",
    "How does your results compare? Do you think this could change with problem size?\n",
    "\n",
    "**Answer:** Larger arrays might benefit more but theres a limit!"
   ]
  },
  {
   "cell_type": "markdown",
   "metadata": {},
   "source": [
    "## Problem 5) Revisiting The Cavity Problem (Optional)"
   ]
  },
  {
   "cell_type": "markdown",
   "metadata": {},
   "source": [
    "**Problem 5a** Rewrite the two most expensive parts of the Cavity problem and compare the speedup to the original non-Numba routine runtime. \n",
    "\n",
    "Hint: You may want to utilize the `@vectorize` decorator and other flags we have utilized so far in this lesson!"
   ]
  },
  {
   "cell_type": "code",
   "execution_count": null,
   "metadata": {},
   "outputs": [],
   "source": []
  },
  {
   "cell_type": "code",
   "execution_count": null,
   "metadata": {},
   "outputs": [],
   "source": []
  }
 ],
 "metadata": {
  "kernelspec": {
   "display_name": "Python 3 (ipykernel)",
   "language": "python",
   "name": "python3"
  },
  "language_info": {
   "codemirror_mode": {
    "name": "ipython",
    "version": 3
   },
   "file_extension": ".py",
   "mimetype": "text/x-python",
   "name": "python",
   "nbconvert_exporter": "python",
   "pygments_lexer": "ipython3",
   "version": "3.10.5"
  }
 },
 "nbformat": 4,
 "nbformat_minor": 2
}
